{
 "cells": [
  {
   "cell_type": "code",
   "execution_count": 17,
   "metadata": {},
   "outputs": [],
   "source": [
    "import sys\n",
    "sys.path.append('../')"
   ]
  },
  {
   "cell_type": "code",
   "execution_count": 18,
   "metadata": {},
   "outputs": [],
   "source": [
    "from nn.sdnn import DNN\n",
    "from nn.iris import IrisDF\n",
    "import numpy as np"
   ]
  },
  {
   "cell_type": "code",
   "execution_count": 19,
   "metadata": {},
   "outputs": [
    {
     "data": {
      "text/plain": [
       "(array([0.77729093, 0.57915795, 0.24385598, 0.030482  ]), array([0, 0, 1]))"
      ]
     },
     "execution_count": 19,
     "metadata": {},
     "output_type": "execute_result"
    }
   ],
   "source": [
    "df = IrisDF()\n",
    "df.X_train[0], df.y_train[0]"
   ]
  },
  {
   "cell_type": "code",
   "execution_count": 20,
   "metadata": {},
   "outputs": [],
   "source": [
    "N = DNN(shape=[4, 10, 6, 3])"
   ]
  },
  {
   "cell_type": "code",
   "execution_count": 21,
   "metadata": {},
   "outputs": [
    {
     "name": "stdout",
     "output_type": "stream",
     "text": [
      "Warning: Maximum number of iterations has been exceeded.\n",
      "         Current function value: 0.074241\n",
      "         Iterations: 200\n",
      "         Function evaluations: 277\n",
      "         Gradient evaluations: 276\n"
     ]
    }
   ],
   "source": [
    "N.train(df.X_train, df.y_train)"
   ]
  },
  {
   "cell_type": "code",
   "execution_count": 22,
   "metadata": {},
   "outputs": [
    {
     "data": {
      "image/png": "[encoded data removed]",
      "text/plain": [
       "<Figure size 432x288 with 1 Axes>"
      ]
     },
     "metadata": {},
     "output_type": "display_data"
    }
   ],
   "source": [
    "N.plot_cost()"
   ]
  },
  {
   "cell_type": "code",
   "execution_count": 23,
   "metadata": {},
   "outputs": [
    {
     "data": {
      "text/plain": [
       "0.9809523809523809"
      ]
     },
     "execution_count": 23,
     "metadata": {},
     "output_type": "execute_result"
    }
   ],
   "source": [
    "N.compute_accuracy(df.X_train, df.y_train)"
   ]
  },
  {
   "cell_type": "code",
   "execution_count": 24,
   "metadata": {},
   "outputs": [
    {
     "data": {
      "text/plain": [
       "1.0"
      ]
     },
     "execution_count": 24,
     "metadata": {},
     "output_type": "execute_result"
    }
   ],
   "source": [
    "N.compute_accuracy(df.X_test, df.y_test)"
   ]
  },
  {
   "cell_type": "code",
   "execution_count": 25,
   "metadata": {},
   "outputs": [
    {
     "name": "stdout",
     "output_type": "stream",
     "text": [
      "Warning: Maximum number of iterations has been exceeded.\n",
      "         Current function value: 0.098195\n",
      "         Iterations: 200\n",
      "         Function evaluations: 227\n",
      "         Gradient evaluations: 227\n"
     ]
    }
   ],
   "source": [
    "N2 = DNN(shape=[4, 10, 3])\n",
    "N2.train(df.X_train, df.y_train)"
   ]
  },
  {
   "cell_type": "code",
   "execution_count": 26,
   "metadata": {},
   "outputs": [
    {
     "data": {
      "image/png": "[encoded data removed]",
      "text/plain": [
       "<Figure size 432x288 with 1 Axes>"
      ]
     },
     "metadata": {},
     "output_type": "display_data"
    }
   ],
   "source": [
    "N2.plot_cost()"
   ]
  },
  {
   "cell_type": "code",
   "execution_count": 27,
   "metadata": {},
   "outputs": [
    {
     "data": {
      "text/plain": [
       "1.0"
      ]
     },
     "execution_count": 27,
     "metadata": {},
     "output_type": "execute_result"
    }
   ],
   "source": [
    "N2.compute_accuracy(df.X_test, df.y_test)"
   ]
  },
  {
   "cell_type": "code",
   "execution_count": 28,
   "metadata": {},
   "outputs": [
    {
     "name": "stdout",
     "output_type": "stream",
     "text": [
      "[0.04 0.96 0.  ]   <-------->   [0 1 0]  ?guessed True\n",
      "[0. 1. 0.]   <-------->   [0 1 0]  ?guessed True\n",
      "[0.79 0.21 0.  ]   <-------->   [1 0 0]  ?guessed True\n",
      "[0. 0. 1.]   <-------->   [0 0 1]  ?guessed True\n",
      "[0.6 0.4 0. ]   <-------->   [1 0 0]  ?guessed True\n",
      "[0.95 0.05 0.  ]   <-------->   [1 0 0]  ?guessed True\n",
      "[0. 1. 0.]   <-------->   [0 1 0]  ?guessed True\n",
      "[0. 1. 0.]   <-------->   [0 1 0]  ?guessed True\n",
      "[0.94 0.06 0.  ]   <-------->   [1 0 0]  ?guessed True\n",
      "[1. 0. 0.]   <-------->   [1 0 0]  ?guessed True\n",
      "[0.59 0.41 0.  ]   <-------->   [1 0 0]  ?guessed True\n",
      "[0.93 0.07 0.  ]   <-------->   [1 0 0]  ?guessed True\n",
      "[0. 0. 1.]   <-------->   [0 0 1]  ?guessed True\n",
      "[0. 0. 1.]   <-------->   [0 0 1]  ?guessed True\n",
      "[0. 1. 0.]   <-------->   [0 1 0]  ?guessed True\n",
      "[1. 0. 0.]   <-------->   [1 0 0]  ?guessed True\n",
      "[0.97 0.03 0.  ]   <-------->   [1 0 0]  ?guessed True\n",
      "[0. 0. 1.]   <-------->   [0 0 1]  ?guessed True\n",
      "[0.05 0.95 0.  ]   <-------->   [0 1 0]  ?guessed True\n",
      "[0. 0. 1.]   <-------->   [0 0 1]  ?guessed True\n",
      "[1. 0. 0.]   <-------->   [1 0 0]  ?guessed True\n",
      "[1. 0. 0.]   <-------->   [1 0 0]  ?guessed True\n",
      "[0. 1. 0.]   <-------->   [0 1 0]  ?guessed True\n",
      "[0. 0. 1.]   <-------->   [0 0 1]  ?guessed True\n",
      "[0.97 0.03 0.  ]   <-------->   [1 0 0]  ?guessed True\n",
      "[0. 0. 1.]   <-------->   [0 0 1]  ?guessed True\n",
      "[0.08 0.92 0.  ]   <-------->   [0 1 0]  ?guessed True\n",
      "[0. 0. 1.]   <-------->   [0 0 1]  ?guessed True\n",
      "[0. 0. 1.]   <-------->   [0 0 1]  ?guessed True\n",
      "[0. 1. 0.]   <-------->   [0 1 0]  ?guessed True\n",
      "[0.02 0.98 0.  ]   <-------->   [0 1 0]  ?guessed True\n",
      "[0. 0. 1.]   <-------->   [0 0 1]  ?guessed True\n",
      "[0. 0. 1.]   <-------->   [0 0 1]  ?guessed True\n",
      "[0.05 0.95 0.  ]   <-------->   [0 1 0]  ?guessed True\n",
      "[0. 0. 1.]   <-------->   [0 0 1]  ?guessed True\n",
      "[0.5 0.5 0. ]   <-------->   [1 0 0]  ?guessed True\n",
      "[0. 0. 1.]   <-------->   [0 0 1]  ?guessed True\n",
      "[0.54 0.46 0.  ]   <-------->   [1 0 0]  ?guessed True\n",
      "[0. 1. 0.]   <-------->   [0 1 0]  ?guessed True\n",
      "[0. 1. 0.]   <-------->   [0 1 0]  ?guessed True\n",
      "[0. 0. 1.]   <-------->   [0 0 1]  ?guessed True\n",
      "[0. 0. 1.]   <-------->   [0 0 1]  ?guessed True\n",
      "[0.97 0.03 0.  ]   <-------->   [1 0 0]  ?guessed True\n",
      "[0.99 0.01 0.  ]   <-------->   [1 0 0]  ?guessed True\n",
      "[0. 1. 0.]   <-------->   [0 1 0]  ?guessed True\n"
     ]
    }
   ],
   "source": [
    "for yh, y in zip(N2.y_hat, df.y_test):\n",
    "    print('{}   <-------->   {}  ?guessed {}'.format(np.round(yh, 2), y, yh.argmax()==y.argmax()))"
   ]
  },
  {
   "cell_type": "code",
   "execution_count": 29,
   "metadata": {},
   "outputs": [
    {
     "name": "stdout",
     "output_type": "stream",
     "text": [
      "Warning: Desired error not necessarily achieved due to precision loss.\n",
      "         Current function value: 0.071209\n",
      "         Iterations: 49\n",
      "         Function evaluations: 105\n",
      "         Gradient evaluations: 98\n"
     ]
    }
   ],
   "source": [
    "N3 = DNN(shape=[4, 20, 10, 6, 3])\n",
    "N3.train(df.X_train, df.y_train)"
   ]
  },
  {
   "cell_type": "code",
   "execution_count": 30,
   "metadata": {},
   "outputs": [
    {
     "data": {
      "image/png": "[encoded data removed]",
      "text/plain": [
       "<Figure size 432x288 with 1 Axes>"
      ]
     },
     "metadata": {},
     "output_type": "display_data"
    }
   ],
   "source": [
    "N3.plot_cost()"
   ]
  },
  {
   "cell_type": "code",
   "execution_count": 31,
   "metadata": {},
   "outputs": [
    {
     "data": {
      "text/plain": [
       "1.0"
      ]
     },
     "execution_count": 31,
     "metadata": {},
     "output_type": "execute_result"
    }
   ],
   "source": [
    "N3.compute_accuracy(df.X_test, df.y_test)"
   ]
  },
  {
   "cell_type": "code",
   "execution_count": 32,
   "metadata": {},
   "outputs": [
    {
     "name": "stdout",
     "output_type": "stream",
     "text": [
      "[0.05 0.95 0.  ]   <-------->   [0 1 0]  ?guessed True\n",
      "[0. 1. 0.]   <-------->   [0 1 0]  ?guessed True\n",
      "[0.95 0.05 0.  ]   <-------->   [1 0 0]  ?guessed True\n",
      "[0. 0. 1.]   <-------->   [0 0 1]  ?guessed True\n",
      "[0.74 0.25 0.  ]   <-------->   [1 0 0]  ?guessed True\n",
      "[0.99 0.01 0.  ]   <-------->   [1 0 0]  ?guessed True\n",
      "[0. 1. 0.]   <-------->   [0 1 0]  ?guessed True\n",
      "[0. 1. 0.]   <-------->   [0 1 0]  ?guessed True\n",
      "[0.98 0.02 0.  ]   <-------->   [1 0 0]  ?guessed True\n",
      "[1. 0. 0.]   <-------->   [1 0 0]  ?guessed True\n",
      "[0.95 0.05 0.  ]   <-------->   [1 0 0]  ?guessed True\n",
      "[0.99 0.01 0.  ]   <-------->   [1 0 0]  ?guessed True\n",
      "[0. 0. 1.]   <-------->   [0 0 1]  ?guessed True\n",
      "[0. 0. 1.]   <-------->   [0 0 1]  ?guessed True\n",
      "[0. 1. 0.]   <-------->   [0 1 0]  ?guessed True\n",
      "[1. 0. 0.]   <-------->   [1 0 0]  ?guessed True\n",
      "[0.99 0.01 0.  ]   <-------->   [1 0 0]  ?guessed True\n",
      "[0. 0. 1.]   <-------->   [0 0 1]  ?guessed True\n",
      "[0.03 0.97 0.  ]   <-------->   [0 1 0]  ?guessed True\n",
      "[0. 0. 1.]   <-------->   [0 0 1]  ?guessed True\n",
      "[1. 0. 0.]   <-------->   [1 0 0]  ?guessed True\n",
      "[1. 0. 0.]   <-------->   [1 0 0]  ?guessed True\n",
      "[0. 1. 0.]   <-------->   [0 1 0]  ?guessed True\n",
      "[0. 0. 1.]   <-------->   [0 0 1]  ?guessed True\n",
      "[0.98 0.02 0.  ]   <-------->   [1 0 0]  ?guessed True\n",
      "[0. 0. 1.]   <-------->   [0 0 1]  ?guessed True\n",
      "[0.26 0.74 0.  ]   <-------->   [0 1 0]  ?guessed True\n",
      "[0. 0. 1.]   <-------->   [0 0 1]  ?guessed True\n",
      "[0. 0. 1.]   <-------->   [0 0 1]  ?guessed True\n",
      "[0. 1. 0.]   <-------->   [0 1 0]  ?guessed True\n",
      "[0.03 0.97 0.  ]   <-------->   [0 1 0]  ?guessed True\n",
      "[0. 0. 1.]   <-------->   [0 0 1]  ?guessed True\n",
      "[0. 0. 1.]   <-------->   [0 0 1]  ?guessed True\n",
      "[0.08 0.92 0.  ]   <-------->   [0 1 0]  ?guessed True\n",
      "[0. 0. 1.]   <-------->   [0 0 1]  ?guessed True\n",
      "[0.57 0.43 0.  ]   <-------->   [1 0 0]  ?guessed True\n",
      "[0. 0. 1.]   <-------->   [0 0 1]  ?guessed True\n",
      "[0.53 0.47 0.  ]   <-------->   [1 0 0]  ?guessed True\n",
      "[0. 1. 0.]   <-------->   [0 1 0]  ?guessed True\n",
      "[0. 1. 0.]   <-------->   [0 1 0]  ?guessed True\n",
      "[0. 0. 1.]   <-------->   [0 0 1]  ?guessed True\n",
      "[0. 0. 1.]   <-------->   [0 0 1]  ?guessed True\n",
      "[0.98 0.02 0.  ]   <-------->   [1 0 0]  ?guessed True\n",
      "[1. 0. 0.]   <-------->   [1 0 0]  ?guessed True\n",
      "[0. 1. 0.]   <-------->   [0 1 0]  ?guessed True\n"
     ]
    }
   ],
   "source": [
    "for yh, y in zip(N3.y_hat, df.y_test):\n",
    "    print('{}   <-------->   {}  ?guessed {}'.format(np.round(yh, 2), y, yh.argmax()==y.argmax()))"
   ]
  }
 ],
 "metadata": {
  "kernelspec": {
   "display_name": "Python 3",
   "language": "python",
   "name": "python3"
  },
  "language_info": {
   "codemirror_mode": {
    "name": "ipython",
    "version": 3
   },
   "file_extension": ".py",
   "mimetype": "text/x-python",
   "name": "python",
   "nbconvert_exporter": "python",
   "pygments_lexer": "ipython3",
   "version": "3.6.6"
  }
 },
 "nbformat": 4,
 "nbformat_minor": 2
}
