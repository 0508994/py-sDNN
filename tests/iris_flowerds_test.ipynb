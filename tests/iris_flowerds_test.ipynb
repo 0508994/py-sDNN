{
 "cells": [
  {
   "cell_type": "code",
   "execution_count": 1,
   "metadata": {},
   "outputs": [],
   "source": [
    "import sys\n",
    "sys.path.append('../')"
   ]
  },
  {
   "cell_type": "code",
   "execution_count": 22,
   "metadata": {},
   "outputs": [],
   "source": [
    "from nn.sdnn import DNN # relu on hidden, sigmoid on output layers in the time of the test\n",
    "from nn.iris import IrisDF\n",
    "import numpy as np"
   ]
  },
  {
   "cell_type": "code",
   "execution_count": 3,
   "metadata": {},
   "outputs": [
    {
     "data": {
      "text/plain": [
       "(array([0.79778206, 0.5424918 , 0.25529026, 0.06382256]), array([0, 0, 1]))"
      ]
     },
     "execution_count": 3,
     "metadata": {},
     "output_type": "execute_result"
    }
   ],
   "source": [
    "df = IrisDF()\n",
    "df.X_train[0], df.y_train[0]"
   ]
  },
  {
   "cell_type": "code",
   "execution_count": 4,
   "metadata": {},
   "outputs": [],
   "source": [
    "N = DNN(shape=[4, 10, 6, 3])"
   ]
  },
  {
   "cell_type": "code",
   "execution_count": 5,
   "metadata": {},
   "outputs": [
    {
     "name": "stdout",
     "output_type": "stream",
     "text": [
      "Optimization terminated successfully.\n",
      "         Current function value: 0.061779\n",
      "         Iterations: 61\n",
      "         Function evaluations: 72\n",
      "         Gradient evaluations: 72\n"
     ]
    }
   ],
   "source": [
    "N.train(df.X_train, df.y_train)"
   ]
  },
  {
   "cell_type": "code",
   "execution_count": 6,
   "metadata": {},
   "outputs": [
    {
     "data": {
      "image/png": "[encoded data removed]",
      "text/plain": [
       "<Figure size 432x288 with 1 Axes>"
      ]
     },
     "metadata": {},
     "output_type": "display_data"
    }
   ],
   "source": [
    "N.plot_cost()"
   ]
  },
  {
   "cell_type": "code",
   "execution_count": 7,
   "metadata": {},
   "outputs": [
    {
     "data": {
      "text/plain": [
       "0.9809523809523809"
      ]
     },
     "execution_count": 7,
     "metadata": {},
     "output_type": "execute_result"
    }
   ],
   "source": [
    "N.compute_accuracy(df.X_train, df.y_train)"
   ]
  },
  {
   "cell_type": "code",
   "execution_count": 8,
   "metadata": {},
   "outputs": [
    {
     "data": {
      "text/plain": [
       "0.9333333333333333"
      ]
     },
     "execution_count": 8,
     "metadata": {},
     "output_type": "execute_result"
    }
   ],
   "source": [
    "N.compute_accuracy(df.X_test, df.y_test)"
   ]
  },
  {
   "cell_type": "code",
   "execution_count": 13,
   "metadata": {},
   "outputs": [
    {
     "name": "stdout",
     "output_type": "stream",
     "text": [
      "Warning: Desired error not necessarily achieved due to precision loss.\n",
      "         Current function value: 0.053965\n",
      "         Iterations: 96\n",
      "         Function evaluations: 211\n",
      "         Gradient evaluations: 204\n"
     ]
    }
   ],
   "source": [
    "N2 = DNN(shape=[4, 10, 3])\n",
    "N2.train(df.X_train, df.y_train)"
   ]
  },
  {
   "cell_type": "code",
   "execution_count": 14,
   "metadata": {},
   "outputs": [
    {
     "data": {
      "image/png": "[encoded data removed]",
      "text/plain": [
       "<Figure size 432x288 with 1 Axes>"
      ]
     },
     "metadata": {},
     "output_type": "display_data"
    }
   ],
   "source": [
    "N2.plot_cost()"
   ]
  },
  {
   "cell_type": "code",
   "execution_count": 27,
   "metadata": {},
   "outputs": [
    {
     "data": {
      "text/plain": [
       "0.9777777777777777"
      ]
     },
     "execution_count": 27,
     "metadata": {},
     "output_type": "execute_result"
    }
   ],
   "source": [
    "N2.compute_accuracy(df.X_test, df.y_test)"
   ]
  },
  {
   "cell_type": "code",
   "execution_count": 38,
   "metadata": {},
   "outputs": [
    {
     "name": "stdout",
     "output_type": "stream",
     "text": [
      "[1. 0. 0.]   <-------->   [1 0 0]  ?guessed True\n",
      "[0. 1. 0.]   <-------->   [0 1 0]  ?guessed True\n",
      "[0. 0. 1.]   <-------->   [0 0 1]  ?guessed True\n",
      "[0. 0. 1.]   <-------->   [0 0 1]  ?guessed True\n",
      "[0. 1. 0.]   <-------->   [0 1 0]  ?guessed True\n",
      "[0.95 0.05 0.  ]   <-------->   [1 0 0]  ?guessed True\n",
      "[0.98 0.02 0.  ]   <-------->   [1 0 0]  ?guessed True\n",
      "[0. 1. 0.]   <-------->   [0 1 0]  ?guessed True\n",
      "[0. 1. 0.]   <-------->   [0 1 0]  ?guessed True\n",
      "[0. 0. 1.]   <-------->   [0 0 1]  ?guessed True\n",
      "[0.06 0.94 0.  ]   <-------->   [0 1 0]  ?guessed True\n",
      "[0.01 0.99 0.  ]   <-------->   [0 1 0]  ?guessed True\n",
      "[1. 0. 0.]   <-------->   [1 0 0]  ?guessed True\n",
      "[0. 0. 1.]   <-------->   [0 0 1]  ?guessed True\n",
      "[0. 0. 1.]   <-------->   [0 0 1]  ?guessed True\n",
      "[1. 0. 0.]   <-------->   [1 0 0]  ?guessed True\n",
      "[0. 0. 1.]   <-------->   [0 0 1]  ?guessed True\n",
      "[1. 0. 0.]   <-------->   [1 0 0]  ?guessed True\n",
      "[0. 0. 1.]   <-------->   [0 0 1]  ?guessed True\n",
      "[0. 1. 0.]   <-------->   [0 1 0]  ?guessed True\n",
      "[0. 0. 1.]   <-------->   [0 0 1]  ?guessed True\n",
      "[0.96 0.04 0.  ]   <-------->   [1 0 0]  ?guessed True\n",
      "[0. 1. 0.]   <-------->   [0 1 0]  ?guessed True\n",
      "[0.99 0.01 0.  ]   <-------->   [1 0 0]  ?guessed True\n",
      "[1. 0. 0.]   <-------->   [1 0 0]  ?guessed True\n",
      "[0.9 0.1 0. ]   <-------->   [1 0 0]  ?guessed True\n",
      "[0.11 0.89 0.  ]   <-------->   [0 1 0]  ?guessed True\n",
      "[1. 0. 0.]   <-------->   [1 0 0]  ?guessed True\n",
      "[0. 1. 0.]   <-------->   [0 1 0]  ?guessed True\n",
      "[0. 0. 1.]   <-------->   [0 0 1]  ?guessed True\n",
      "[0.64 0.36 0.  ]   <-------->   [1 0 0]  ?guessed True\n",
      "[0. 0. 1.]   <-------->   [0 0 1]  ?guessed True\n",
      "[0. 0. 1.]   <-------->   [0 0 1]  ?guessed True\n",
      "[0.01 0.99 0.  ]   <-------->   [0 1 0]  ?guessed True\n",
      "[1. 0. 0.]   <-------->   [1 0 0]  ?guessed True\n",
      "[0. 1. 0.]   <-------->   [0 1 0]  ?guessed True\n",
      "[0. 1. 0.]   <-------->   [0 1 0]  ?guessed True\n",
      "[1. 0. 0.]   <-------->   [1 0 0]  ?guessed True\n",
      "[0. 1. 0.]   <-------->   [0 1 0]  ?guessed True\n",
      "[0. 1. 0.]   <-------->   [0 1 0]  ?guessed True\n",
      "[0. 0. 1.]   <-------->   [0 0 1]  ?guessed True\n",
      "[0.03 0.97 0.  ]   <-------->   [1 0 0]  ?guessed False\n",
      "[1. 0. 0.]   <-------->   [1 0 0]  ?guessed True\n",
      "[0. 0. 1.]   <-------->   [0 0 1]  ?guessed True\n",
      "[0.99 0.01 0.  ]   <-------->   [1 0 0]  ?guessed True\n"
     ]
    }
   ],
   "source": [
    "for yh, y in zip(N2.y_hat, df.y_test):\n",
    "    print('{}   <-------->   {}  ?guessed {}'.format(np.round(yh, 2), y, yh.argmax()==y.argmax()))"
   ]
  },
  {
   "cell_type": "code",
   "execution_count": 32,
   "metadata": {},
   "outputs": [
    {
     "name": "stdout",
     "output_type": "stream",
     "text": [
      "Warning: Desired error not necessarily achieved due to precision loss.\n",
      "         Current function value: 0.043659\n",
      "         Iterations: 116\n",
      "         Function evaluations: 221\n",
      "         Gradient evaluations: 215\n"
     ]
    }
   ],
   "source": [
    "N3 = DNN(shape=[4, 20, 10, 6, 3])\n",
    "N3.train(df.X_train, df.y_train)"
   ]
  },
  {
   "cell_type": "code",
   "execution_count": 33,
   "metadata": {},
   "outputs": [
    {
     "data": {
      "image/png": "[encoded data removed]",
      "text/plain": [
       "<Figure size 432x288 with 1 Axes>"
      ]
     },
     "metadata": {},
     "output_type": "display_data"
    }
   ],
   "source": [
    "N3.plot_cost()"
   ]
  },
  {
   "cell_type": "code",
   "execution_count": 34,
   "metadata": {},
   "outputs": [
    {
     "data": {
      "text/plain": [
       "0.9555555555555556"
      ]
     },
     "execution_count": 34,
     "metadata": {},
     "output_type": "execute_result"
    }
   ],
   "source": [
    "N3.compute_accuracy(df.X_test, df.y_test)"
   ]
  },
  {
   "cell_type": "code",
   "execution_count": 37,
   "metadata": {},
   "outputs": [
    {
     "name": "stdout",
     "output_type": "stream",
     "text": [
      "[1. 0. 0.]   <-------->   [1 0 0]  ?guessed True\n",
      "[0. 1. 0.]   <-------->   [0 1 0]  ?guessed True\n",
      "[0. 0. 1.]   <-------->   [0 0 1]  ?guessed True\n",
      "[0. 0. 1.]   <-------->   [0 0 1]  ?guessed True\n",
      "[0. 1. 0.]   <-------->   [0 1 0]  ?guessed True\n",
      "[0.99 0.01 0.  ]   <-------->   [1 0 0]  ?guessed True\n",
      "[0.94 0.06 0.  ]   <-------->   [1 0 0]  ?guessed True\n",
      "[0. 1. 0.]   <-------->   [0 1 0]  ?guessed True\n",
      "[0. 1. 0.]   <-------->   [0 1 0]  ?guessed True\n",
      "[0. 0. 1.]   <-------->   [0 0 1]  ?guessed True\n",
      "[0. 1. 0.]   <-------->   [0 1 0]  ?guessed True\n",
      "[0. 1. 0.]   <-------->   [0 1 0]  ?guessed True\n",
      "[1. 0. 0.]   <-------->   [1 0 0]  ?guessed True\n",
      "[0. 0. 1.]   <-------->   [0 0 1]  ?guessed True\n",
      "[0. 0. 1.]   <-------->   [0 0 1]  ?guessed True\n",
      "[1. 0. 0.]   <-------->   [1 0 0]  ?guessed True\n",
      "[0. 0. 1.]   <-------->   [0 0 1]  ?guessed True\n",
      "[0.8 0.2 0. ]   <-------->   [1 0 0]  ?guessed True\n",
      "[0. 0. 1.]   <-------->   [0 0 1]  ?guessed True\n",
      "[0. 1. 0.]   <-------->   [0 1 0]  ?guessed True\n",
      "[0. 0. 1.]   <-------->   [0 0 1]  ?guessed True\n",
      "[0.97 0.03 0.  ]   <-------->   [1 0 0]  ?guessed True\n",
      "[0. 1. 0.]   <-------->   [0 1 0]  ?guessed True\n",
      "[1. 0. 0.]   <-------->   [1 0 0]  ?guessed True\n",
      "[1. 0. 0.]   <-------->   [1 0 0]  ?guessed True\n",
      "[0.98 0.02 0.  ]   <-------->   [1 0 0]  ?guessed True\n",
      "[0.51 0.49 0.  ]   <-------->   [0 1 0]  ?guessed False\n",
      "[0.94 0.06 0.  ]   <-------->   [1 0 0]  ?guessed True\n",
      "[0. 1. 0.]   <-------->   [0 1 0]  ?guessed True\n",
      "[0. 0. 1.]   <-------->   [0 0 1]  ?guessed True\n",
      "[0.86 0.14 0.  ]   <-------->   [1 0 0]  ?guessed True\n",
      "[0. 0. 1.]   <-------->   [0 0 1]  ?guessed True\n",
      "[0. 0. 1.]   <-------->   [0 0 1]  ?guessed True\n",
      "[0. 1. 0.]   <-------->   [0 1 0]  ?guessed True\n",
      "[1. 0. 0.]   <-------->   [1 0 0]  ?guessed True\n",
      "[0. 1. 0.]   <-------->   [0 1 0]  ?guessed True\n",
      "[0. 1. 0.]   <-------->   [0 1 0]  ?guessed True\n",
      "[1. 0. 0.]   <-------->   [1 0 0]  ?guessed True\n",
      "[0. 1. 0.]   <-------->   [0 1 0]  ?guessed True\n",
      "[0. 1. 0.]   <-------->   [0 1 0]  ?guessed True\n",
      "[0. 0. 1.]   <-------->   [0 0 1]  ?guessed True\n",
      "[0.43 0.57 0.  ]   <-------->   [1 0 0]  ?guessed False\n",
      "[0.81 0.19 0.  ]   <-------->   [1 0 0]  ?guessed True\n",
      "[0. 0. 1.]   <-------->   [0 0 1]  ?guessed True\n",
      "[0.97 0.03 0.  ]   <-------->   [1 0 0]  ?guessed True\n"
     ]
    }
   ],
   "source": [
    "for yh, y in zip(N3.y_hat, df.y_test):\n",
    "    print('{}   <-------->   {}  ?guessed {}'.format(np.round(yh, 2), y, yh.argmax()==y.argmax()))"
   ]
  }
 ],
 "metadata": {
  "kernelspec": {
   "display_name": "Python 3",
   "language": "python",
   "name": "python3"
  },
  "language_info": {
   "codemirror_mode": {
    "name": "ipython",
    "version": 3
   },
   "file_extension": ".py",
   "mimetype": "text/x-python",
   "name": "python",
   "nbconvert_exporter": "python",
   "pygments_lexer": "ipython3",
   "version": "3.6.6"
  }
 },
 "nbformat": 4,
 "nbformat_minor": 2
}
