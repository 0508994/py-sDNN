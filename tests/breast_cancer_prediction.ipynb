{
 "cells": [
  {
   "cell_type": "code",
   "execution_count": 1,
   "metadata": {},
   "outputs": [],
   "source": [
    "import sys\n",
    "sys.path.append('../')"
   ]
  },
  {
   "cell_type": "code",
   "execution_count": 2,
   "metadata": {},
   "outputs": [],
   "source": [
    "import numpy as np\n",
    "from sklearn.model_selection import train_test_split\n",
    "from sklearn import preprocessing\n",
    "from nn.sdnn import DNN"
   ]
  },
  {
   "cell_type": "code",
   "execution_count": 3,
   "metadata": {},
   "outputs": [
    {
     "data": {
      "text/plain": [
       "(699, 11)"
      ]
     },
     "execution_count": 3,
     "metadata": {},
     "output_type": "execute_result"
    }
   ],
   "source": [
    "# https://archive.ics.uci.edu/ml/machine-learning-databases/breast-cancer-wisconsin/breast-cancer-wisconsin.data\n",
    "data = np.genfromtxt('data/breast-cancer-wisconsin.data.txt', delimiter=',')\n",
    "data.shape"
   ]
  },
  {
   "cell_type": "code",
   "execution_count": 4,
   "metadata": {},
   "outputs": [
    {
     "data": {
      "text/plain": [
       "(683, 10)"
      ]
     },
     "execution_count": 4,
     "metadata": {},
     "output_type": "execute_result"
    }
   ],
   "source": [
    "data = data[~np.isnan(data).any(axis=1)] # drop nans\n",
    "data = data[:, 1:]                       # drop the id field\n",
    "data.shape"
   ]
  },
  {
   "cell_type": "code",
   "execution_count": 5,
   "metadata": {},
   "outputs": [
    {
     "data": {
      "text/plain": [
       "((683, 9), (683, 1))"
      ]
     },
     "execution_count": 5,
     "metadata": {},
     "output_type": "execute_result"
    }
   ],
   "source": [
    "X = data[:, 0:-1]\n",
    "y = data[:, -1:] # 2 or 4\n",
    "X.shape, y.shape"
   ]
  },
  {
   "cell_type": "code",
   "execution_count": 6,
   "metadata": {},
   "outputs": [
    {
     "data": {
      "text/plain": [
       "array([ 5.,  4.,  4.,  5.,  7., 10.,  3.,  2.,  1.])"
      ]
     },
     "execution_count": 6,
     "metadata": {},
     "output_type": "execute_result"
    }
   ],
   "source": [
    "X[1]"
   ]
  },
  {
   "cell_type": "code",
   "execution_count": 7,
   "metadata": {},
   "outputs": [],
   "source": [
    "y = np.zeros([len(data), 2])\n",
    "for i in range(0, len(data)):\n",
    "    if data[i, -1] == 2:\n",
    "        y[i, 0] = 0\n",
    "        y[i, 1] = 1\n",
    "    else:\n",
    "        y[i, 0] = 1\n",
    "        y[i, 1] = 0"
   ]
  },
  {
   "cell_type": "code",
   "execution_count": 8,
   "metadata": {},
   "outputs": [],
   "source": [
    "X = preprocessing.normalize(X)"
   ]
  },
  {
   "cell_type": "code",
   "execution_count": 9,
   "metadata": {},
   "outputs": [],
   "source": [
    "X_train, X_test, y_train, y_test = train_test_split(X, y, test_size=0.33)"
   ]
  },
  {
   "cell_type": "code",
   "execution_count": 10,
   "metadata": {},
   "outputs": [
    {
     "data": {
      "text/plain": [
       "array([[0.38807526, 0.23284516, 0.31046021, 0.23284516, 0.31046021,\n",
       "        0.38807526, 0.31046021, 0.54330537, 0.07761505],\n",
       "       [0.35112344, 0.29260287, 0.29260287, 0.46816459, 0.23408229,\n",
       "        0.58520574, 0.17556172, 0.23408229, 0.05852057],\n",
       "       [0.84852814, 0.14142136, 0.14142136, 0.14142136, 0.28284271,\n",
       "        0.14142136, 0.28284271, 0.14142136, 0.14142136]])"
      ]
     },
     "execution_count": 10,
     "metadata": {},
     "output_type": "execute_result"
    }
   ],
   "source": [
    "X_train[:3]"
   ]
  },
  {
   "cell_type": "code",
   "execution_count": 11,
   "metadata": {},
   "outputs": [
    {
     "data": {
      "text/plain": [
       "((683, 9), (683, 2))"
      ]
     },
     "execution_count": 11,
     "metadata": {},
     "output_type": "execute_result"
    }
   ],
   "source": [
    "X.shape, y.shape"
   ]
  },
  {
   "cell_type": "code",
   "execution_count": 12,
   "metadata": {},
   "outputs": [
    {
     "name": "stdout",
     "output_type": "stream",
     "text": [
      "Optimization terminated successfully.\n",
      "         Current function value: 0.000000\n",
      "         Iterations: 193\n",
      "         Function evaluations: 210\n",
      "         Gradient evaluations: 210\n"
     ]
    }
   ],
   "source": [
    "N = DNN(shape=[9, 15, 19, 2])\n",
    "N.train(X_train, y_train)"
   ]
  },
  {
   "cell_type": "code",
   "execution_count": 13,
   "metadata": {},
   "outputs": [
    {
     "data": {
      "image/png": "[encoded data removed]",
      "text/plain": [
       "<Figure size 432x288 with 1 Axes>"
      ]
     },
     "metadata": {},
     "output_type": "display_data"
    }
   ],
   "source": [
    "N.plot_cost()"
   ]
  },
  {
   "cell_type": "code",
   "execution_count": 14,
   "metadata": {},
   "outputs": [
    {
     "data": {
      "text/plain": [
       "0.8982300884955752"
      ]
     },
     "execution_count": 14,
     "metadata": {},
     "output_type": "execute_result"
    }
   ],
   "source": [
    "N.compute_accuracy(X_test, y_test)"
   ]
  },
  {
   "cell_type": "code",
   "execution_count": 15,
   "metadata": {},
   "outputs": [
    {
     "name": "stdout",
     "output_type": "stream",
     "text": [
      "Optimization terminated successfully.\n",
      "         Current function value: 0.000000\n",
      "         Iterations: 117\n",
      "         Function evaluations: 127\n",
      "         Gradient evaluations: 127\n"
     ]
    }
   ],
   "source": [
    "N2 = DNN(shape=[9, 25, 35, 8, 2])\n",
    "N2.train(X_train, y_train)"
   ]
  },
  {
   "cell_type": "code",
   "execution_count": 16,
   "metadata": {},
   "outputs": [
    {
     "data": {
      "image/png": "[encoded data removed]",
      "text/plain": [
       "<Figure size 432x288 with 1 Axes>"
      ]
     },
     "metadata": {},
     "output_type": "display_data"
    }
   ],
   "source": [
    "N2.plot_cost()"
   ]
  },
  {
   "cell_type": "code",
   "execution_count": 17,
   "metadata": {},
   "outputs": [
    {
     "data": {
      "text/plain": [
       "0.8628318584070797"
      ]
     },
     "execution_count": 17,
     "metadata": {},
     "output_type": "execute_result"
    }
   ],
   "source": [
    "N2.compute_accuracy(X_test, y_test)"
   ]
  },
  {
   "cell_type": "code",
   "execution_count": 26,
   "metadata": {},
   "outputs": [],
   "source": [
    "# compare with sklearns implementation\n",
    "from sklearn.neural_network import MLPClassifier\n",
    "from sklearn.metrics import accuracy_score\n",
    "\n",
    "clf = MLPClassifier(solver='lbfgs', alpha=1e-5, hidden_layer_sizes=(15, 19), random_state=1)"
   ]
  },
  {
   "cell_type": "code",
   "execution_count": 27,
   "metadata": {},
   "outputs": [
    {
     "data": {
      "text/plain": [
       "(array([1, 0, 1], dtype=int64), array([0, 1, 1], dtype=int64))"
      ]
     },
     "execution_count": 27,
     "metadata": {},
     "output_type": "execute_result"
    }
   ],
   "source": [
    "ymlp_train = y_train.argmax(axis=1)\n",
    "ymlp_test = y_test.argmax(axis=1)\n",
    "\n",
    "ymlp_train[:3], ymlp_test[:3]"
   ]
  },
  {
   "cell_type": "code",
   "execution_count": 28,
   "metadata": {},
   "outputs": [
    {
     "data": {
      "text/plain": [
       "MLPClassifier(activation='relu', alpha=1e-05, batch_size='auto', beta_1=0.9,\n",
       "       beta_2=0.999, early_stopping=False, epsilon=1e-08,\n",
       "       hidden_layer_sizes=(15, 19), learning_rate='constant',\n",
       "       learning_rate_init=0.001, max_iter=200, momentum=0.9,\n",
       "       nesterovs_momentum=True, power_t=0.5, random_state=1, shuffle=True,\n",
       "       solver='lbfgs', tol=0.0001, validation_fraction=0.1, verbose=False,\n",
       "       warm_start=False)"
      ]
     },
     "execution_count": 28,
     "metadata": {},
     "output_type": "execute_result"
    }
   ],
   "source": [
    "clf.fit(X_train, ymlp_train)"
   ]
  },
  {
   "cell_type": "code",
   "execution_count": 29,
   "metadata": {},
   "outputs": [
    {
     "data": {
      "text/plain": [
       "(0.911504424778761, 0.8982300884955752)"
      ]
     },
     "execution_count": 29,
     "metadata": {},
     "output_type": "execute_result"
    }
   ],
   "source": [
    "accuracy_score(ymlp_test, clf.predict(X_test)), N.compute_accuracy(X_test, y_test)"
   ]
  },
  {
   "cell_type": "code",
   "execution_count": 30,
   "metadata": {},
   "outputs": [
    {
     "data": {
      "text/plain": [
       "array([[0.895, 0.105],\n",
       "       [0.001, 0.999],\n",
       "       [0.021, 0.979],\n",
       "       [0.014, 0.986],\n",
       "       [0.001, 0.999],\n",
       "       [0.016, 0.984],\n",
       "       [0.826, 0.174],\n",
       "       [0.615, 0.385],\n",
       "       [0.004, 0.996],\n",
       "       [0.004, 0.996]])"
      ]
     },
     "execution_count": 30,
     "metadata": {},
     "output_type": "execute_result"
    }
   ],
   "source": [
    "np.round(clf.predict_proba(X_test), 3)[:10]"
   ]
  },
  {
   "cell_type": "code",
   "execution_count": 31,
   "metadata": {},
   "outputs": [
    {
     "data": {
      "text/plain": [
       "array([[1., 0.],\n",
       "       [0., 1.],\n",
       "       [0., 1.],\n",
       "       [0., 1.],\n",
       "       [0., 1.],\n",
       "       [0., 1.],\n",
       "       [1., 0.],\n",
       "       [1., 0.],\n",
       "       [0., 1.],\n",
       "       [0., 1.]])"
      ]
     },
     "execution_count": 31,
     "metadata": {},
     "output_type": "execute_result"
    }
   ],
   "source": [
    "np.round(N.y_hat, 2)[:10]"
   ]
  },
  {
   "cell_type": "code",
   "execution_count": 32,
   "metadata": {},
   "outputs": [
    {
     "data": {
      "text/plain": [
       "array([[-0.08,  0.85, -0.74, -0.51,  0.77, -0.45, -0.37, -0.29, -0.1 ,\n",
       "         0.04, -0.82, -1.21, -0.62,  2.22, -0.47],\n",
       "       [ 0.17, -0.01, -0.27, -0.67,  3.39,  0.23,  0.32, -0.01,  0.19,\n",
       "         0.38, -0.39,  0.21,  1.19, -3.38,  0.38],\n",
       "       [-0.4 ,  1.18,  0.18, -0.31,  1.07, -0.25, -0.  ,  0.86, -0.48,\n",
       "         0.25, -0.23,  0.84, -0.17, -0.02, -0.4 ],\n",
       "       [-0.05,  1.12, -0.46, -0.45,  0.  , -0.53,  0.09,  0.27, -0.23,\n",
       "        -0.01, -0.76, -0.44, -0.78, -0.71,  0.2 ],\n",
       "       [-0.4 ,  0.53,  0.14, -0.26, -2.4 , -0.03,  0.1 ,  1.05,  0.44,\n",
       "         0.09,  0.12,  0.59, -2.27,  1.99, -0.1 ],\n",
       "       [-0.33, -2.07, -0.38, -0.05, -1.33,  0.27, -0.11,  0.88, -0.15,\n",
       "        -0.23, -0.57, -0.71,  5.31,  1.13,  0.12],\n",
       "       [-0.39,  4.75, -0.24, -0.22,  0.85, -0.34,  0.15,  0.45, -0.5 ,\n",
       "         0.12, -0.65,  0.08, -1.43,  5.35,  0.41],\n",
       "       [ 0.12,  1.28,  0.03, -0.14,  0.96, -0.34, -0.51,  1.56,  0.2 ,\n",
       "        -0.43, -0.38,  1.53,  0.8 ,  0.26, -0.38],\n",
       "       [-0.48, -1.45, -0.47, -0.39, -3.76,  0.02, -0.06,  0.73, -0.38,\n",
       "        -0.22, -0.02,  1.05, -2.8 , -2.22,  0.3 ]])"
      ]
     },
     "execution_count": 32,
     "metadata": {},
     "output_type": "execute_result"
    }
   ],
   "source": [
    "np.round(clf.coefs_[0], 2)"
   ]
  },
  {
   "cell_type": "code",
   "execution_count": 33,
   "metadata": {},
   "outputs": [
    {
     "data": {
      "text/plain": [
       "array([[ 1.540e+00,  1.140e+00, -6.500e-01,  7.250e+00,  2.350e+00,\n",
       "        -1.760e+00,  5.100e+00, -2.360e+00, -6.790e+00,  1.232e+01,\n",
       "         6.030e+00, -1.460e+01,  1.699e+01, -2.480e+00,  7.410e+00],\n",
       "       [ 3.250e+00,  5.320e+00, -3.400e-01,  5.640e+00, -8.600e+00,\n",
       "        -4.630e+00, -2.590e+00, -7.510e+00,  3.830e+00,  1.326e+01,\n",
       "        -6.310e+00,  9.500e-01, -7.510e+00,  1.830e+00,  2.220e+00],\n",
       "       [ 5.840e+00,  2.550e+00, -7.000e-01,  7.300e-01,  4.100e+00,\n",
       "         7.940e+00, -7.600e-01, -5.810e+00,  1.530e+00,  5.700e-01,\n",
       "         2.600e+00,  1.180e+00, -4.100e+00,  1.550e+00, -2.200e-01],\n",
       "       [-3.370e+00, -3.320e+00,  1.600e-01,  1.136e+01, -7.600e-01,\n",
       "         7.180e+00,  3.650e+00,  2.870e+00, -2.610e+00,  6.940e+00,\n",
       "         8.610e+00, -6.830e+00,  6.750e+00, -4.400e+00,  9.240e+00],\n",
       "       [ 1.340e+00, -1.590e+00, -9.300e-01,  2.700e+00,  6.900e-01,\n",
       "         6.800e-01,  7.950e+00,  7.300e+00, -7.400e+00,  1.010e+00,\n",
       "         6.320e+00,  1.560e+00,  1.320e+00,  8.600e-01,  4.110e+00],\n",
       "       [-4.000e-02, -4.740e+00, -4.600e-01,  2.220e+00,  3.010e+00,\n",
       "         8.000e-01,  2.773e+01,  1.152e+01,  1.023e+01, -1.271e+01,\n",
       "        -6.750e+00,  1.094e+01, -7.940e+00, -5.830e+00, -1.666e+01],\n",
       "       [-2.200e-01,  4.790e+00, -3.800e-01,  1.376e+01,  1.191e+01,\n",
       "        -4.100e+00,  2.030e+00,  1.120e+00, -3.930e+00,  4.030e+00,\n",
       "         1.270e+01, -5.360e+00, -4.560e+00, -3.940e+00,  5.420e+00],\n",
       "       [ 9.030e+00,  1.455e+01, -6.400e-01,  1.063e+01,  1.363e+01,\n",
       "        -5.780e+00,  6.070e+00, -5.250e+00,  1.485e+01, -5.100e+00,\n",
       "         9.260e+00,  3.700e+00, -6.980e+00, -3.390e+00, -9.630e+00],\n",
       "       [ 2.430e+00,  5.520e+00, -1.700e-01, -4.850e+00, -1.039e+01,\n",
       "        -4.530e+00, -4.246e+01,  9.440e+00,  2.114e+01, -3.790e+00,\n",
       "        -8.900e-01,  2.080e+01,  9.600e-01,  7.760e+00, -2.170e+00]])"
      ]
     },
     "execution_count": 33,
     "metadata": {},
     "output_type": "execute_result"
    }
   ],
   "source": [
    "np.round(N.Ws[0], 2)"
   ]
  },
  {
   "cell_type": "code",
   "execution_count": null,
   "metadata": {},
   "outputs": [],
   "source": []
  }
 ],
 "metadata": {
  "kernelspec": {
   "display_name": "Python 3",
   "language": "python",
   "name": "python3"
  },
  "language_info": {
   "codemirror_mode": {
    "name": "ipython",
    "version": 3
   },
   "file_extension": ".py",
   "mimetype": "text/x-python",
   "name": "python",
   "nbconvert_exporter": "python",
   "pygments_lexer": "ipython3",
   "version": "3.6.6"
  }
 },
 "nbformat": 4,
 "nbformat_minor": 2
}
