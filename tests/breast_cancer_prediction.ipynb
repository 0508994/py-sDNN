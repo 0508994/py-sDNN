{
 "cells": [
  {
   "cell_type": "code",
   "execution_count": 4,
   "metadata": {},
   "outputs": [],
   "source": [
    "import sys\n",
    "sys.path.append('../')"
   ]
  },
  {
   "cell_type": "code",
   "execution_count": 5,
   "metadata": {},
   "outputs": [],
   "source": [
    "import numpy as np\n",
    "from sklearn.model_selection import train_test_split\n",
    "from sklearn import preprocessing\n",
    "from nn.sdnn import DNN"
   ]
  },
  {
   "cell_type": "code",
   "execution_count": 6,
   "metadata": {},
   "outputs": [
    {
     "data": {
      "text/plain": [
       "(699, 11)"
      ]
     },
     "execution_count": 6,
     "metadata": {},
     "output_type": "execute_result"
    }
   ],
   "source": [
    "# https://archive.ics.uci.edu/ml/machine-learning-databases/breast-cancer-wisconsin/breast-cancer-wisconsin.data\n",
    "data = np.genfromtxt('data/breast-cancer-wisconsin.data.txt', delimiter=',')\n",
    "data.shape"
   ]
  },
  {
   "cell_type": "code",
   "execution_count": 7,
   "metadata": {},
   "outputs": [
    {
     "data": {
      "text/plain": [
       "(683, 10)"
      ]
     },
     "execution_count": 7,
     "metadata": {},
     "output_type": "execute_result"
    }
   ],
   "source": [
    "data = data[~np.isnan(data).any(axis=1)] # drop nans\n",
    "data = data[:, 1:]                       # drop the id field\n",
    "data.shape"
   ]
  },
  {
   "cell_type": "code",
   "execution_count": 8,
   "metadata": {},
   "outputs": [
    {
     "data": {
      "text/plain": [
       "((683, 9), (683, 1))"
      ]
     },
     "execution_count": 8,
     "metadata": {},
     "output_type": "execute_result"
    }
   ],
   "source": [
    "X = data[:, 0:-1]\n",
    "y = data[:, -1:] # 2 or 4\n",
    "X.shape, y.shape"
   ]
  },
  {
   "cell_type": "code",
   "execution_count": 9,
   "metadata": {},
   "outputs": [
    {
     "data": {
      "text/plain": [
       "array([ 5.,  4.,  4.,  5.,  7., 10.,  3.,  2.,  1.])"
      ]
     },
     "execution_count": 9,
     "metadata": {},
     "output_type": "execute_result"
    }
   ],
   "source": [
    "X[1]"
   ]
  },
  {
   "cell_type": "code",
   "execution_count": 10,
   "metadata": {},
   "outputs": [],
   "source": [
    "y = np.zeros([len(data), 2])\n",
    "for i in range(0, len(data)):\n",
    "    if data[i, -1] == 2:\n",
    "        y[i, 0] = 0\n",
    "        y[i, 1] = 1\n",
    "    else:\n",
    "        y[i, 0] = 1\n",
    "        y[i, 1] = 0"
   ]
  },
  {
   "cell_type": "code",
   "execution_count": 11,
   "metadata": {},
   "outputs": [],
   "source": [
    "X = preprocessing.normalize(X)"
   ]
  },
  {
   "cell_type": "code",
   "execution_count": 12,
   "metadata": {},
   "outputs": [],
   "source": [
    "X_train, X_test, y_train, y_test = train_test_split(X, y, test_size=0.33)"
   ]
  },
  {
   "cell_type": "code",
   "execution_count": 13,
   "metadata": {},
   "outputs": [
    {
     "data": {
      "text/plain": [
       "array([[0.26286477, 0.43810795, 0.08762159, 0.35048636, 0.43810795,\n",
       "        0.08762159, 0.30667557, 0.35048636, 0.43810795],\n",
       "       [0.67082039, 0.2236068 , 0.2236068 , 0.2236068 , 0.4472136 ,\n",
       "        0.2236068 , 0.2236068 , 0.2236068 , 0.2236068 ],\n",
       "       [0.76980036, 0.19245009, 0.19245009, 0.19245009, 0.38490018,\n",
       "        0.19245009, 0.19245009, 0.19245009, 0.19245009]])"
      ]
     },
     "execution_count": 13,
     "metadata": {},
     "output_type": "execute_result"
    }
   ],
   "source": [
    "X_train[:3]"
   ]
  },
  {
   "cell_type": "code",
   "execution_count": 14,
   "metadata": {},
   "outputs": [
    {
     "data": {
      "text/plain": [
       "((683, 9), (683, 2))"
      ]
     },
     "execution_count": 14,
     "metadata": {},
     "output_type": "execute_result"
    }
   ],
   "source": [
    "X.shape, y.shape"
   ]
  },
  {
   "cell_type": "code",
   "execution_count": 15,
   "metadata": {},
   "outputs": [
    {
     "name": "stdout",
     "output_type": "stream",
     "text": [
      "Warning: Maximum number of iterations has been exceeded.\n",
      "         Current function value: 0.027309\n",
      "         Iterations: 200\n",
      "         Function evaluations: 203\n",
      "         Gradient evaluations: 203\n"
     ]
    }
   ],
   "source": [
    "N = DNN(shape=[9, 15, 19, 2])\n",
    "N.train(X_train, y_train)"
   ]
  },
  {
   "cell_type": "code",
   "execution_count": 16,
   "metadata": {},
   "outputs": [
    {
     "data": {
      "image/png": "[encoded data removed]",
      "text/plain": [
       "<Figure size 432x288 with 1 Axes>"
      ]
     },
     "metadata": {},
     "output_type": "display_data"
    }
   ],
   "source": [
    "N.plot_cost()"
   ]
  },
  {
   "cell_type": "code",
   "execution_count": 17,
   "metadata": {},
   "outputs": [
    {
     "data": {
      "text/plain": [
       "0.9203539823008849"
      ]
     },
     "execution_count": 17,
     "metadata": {},
     "output_type": "execute_result"
    }
   ],
   "source": [
    "N.compute_accuracy(X_test, y_test)"
   ]
  },
  {
   "cell_type": "code",
   "execution_count": 18,
   "metadata": {},
   "outputs": [
    {
     "name": "stdout",
     "output_type": "stream",
     "text": [
      "Warning: Maximum number of iterations has been exceeded.\n",
      "         Current function value: 0.017105\n",
      "         Iterations: 200\n",
      "         Function evaluations: 215\n",
      "         Gradient evaluations: 215\n"
     ]
    }
   ],
   "source": [
    "N2 = DNN(shape=[9, 25, 35, 8, 2])\n",
    "N2.train(X_train, y_train)"
   ]
  },
  {
   "cell_type": "code",
   "execution_count": 19,
   "metadata": {},
   "outputs": [
    {
     "data": {
      "image/png": "[encoded data removed]",
      "text/plain": [
       "<Figure size 432x288 with 1 Axes>"
      ]
     },
     "metadata": {},
     "output_type": "display_data"
    }
   ],
   "source": [
    "N2.plot_cost()"
   ]
  },
  {
   "cell_type": "code",
   "execution_count": 20,
   "metadata": {},
   "outputs": [
    {
     "data": {
      "text/plain": [
       "0.8893805309734514"
      ]
     },
     "execution_count": 20,
     "metadata": {},
     "output_type": "execute_result"
    }
   ],
   "source": [
    "N2.compute_accuracy(X_test, y_test)"
   ]
  },
  {
   "cell_type": "code",
   "execution_count": 21,
   "metadata": {},
   "outputs": [],
   "source": [
    "# compare with sklearns implementation\n",
    "from sklearn.neural_network import MLPClassifier\n",
    "from sklearn.metrics import accuracy_score\n",
    "\n",
    "clf = MLPClassifier(solver='lbfgs', alpha=1e-5, hidden_layer_sizes=(15, 19), random_state=1)"
   ]
  },
  {
   "cell_type": "code",
   "execution_count": 22,
   "metadata": {},
   "outputs": [
    {
     "data": {
      "text/plain": [
       "(array([0, 1, 1], dtype=int64), array([0, 0, 0], dtype=int64))"
      ]
     },
     "execution_count": 22,
     "metadata": {},
     "output_type": "execute_result"
    }
   ],
   "source": [
    "ymlp_train = y_train.argmax(axis=1)\n",
    "ymlp_test = y_test.argmax(axis=1)\n",
    "\n",
    "ymlp_train[:3], ymlp_test[:3]"
   ]
  },
  {
   "cell_type": "code",
   "execution_count": 23,
   "metadata": {},
   "outputs": [
    {
     "data": {
      "text/plain": [
       "MLPClassifier(activation='relu', alpha=1e-05, batch_size='auto', beta_1=0.9,\n",
       "       beta_2=0.999, early_stopping=False, epsilon=1e-08,\n",
       "       hidden_layer_sizes=(15, 19), learning_rate='constant',\n",
       "       learning_rate_init=0.001, max_iter=200, momentum=0.9,\n",
       "       nesterovs_momentum=True, power_t=0.5, random_state=1, shuffle=True,\n",
       "       solver='lbfgs', tol=0.0001, validation_fraction=0.1, verbose=False,\n",
       "       warm_start=False)"
      ]
     },
     "execution_count": 23,
     "metadata": {},
     "output_type": "execute_result"
    }
   ],
   "source": [
    "clf.fit(X_train, ymlp_train)"
   ]
  },
  {
   "cell_type": "code",
   "execution_count": 24,
   "metadata": {},
   "outputs": [
    {
     "data": {
      "text/plain": [
       "(0.8938053097345132, 0.9203539823008849)"
      ]
     },
     "execution_count": 24,
     "metadata": {},
     "output_type": "execute_result"
    }
   ],
   "source": [
    "accuracy_score(ymlp_test, clf.predict(X_test)), N.compute_accuracy(X_test, y_test)"
   ]
  },
  {
   "cell_type": "code",
   "execution_count": 25,
   "metadata": {},
   "outputs": [
    {
     "data": {
      "text/plain": [
       "array([[0.801, 0.199],\n",
       "       [0.635, 0.365],\n",
       "       [0.981, 0.019],\n",
       "       [0.002, 0.998],\n",
       "       [0.105, 0.895],\n",
       "       [0.26 , 0.74 ],\n",
       "       [0.966, 0.034],\n",
       "       [0.912, 0.088],\n",
       "       [0.058, 0.942],\n",
       "       [0.015, 0.985]])"
      ]
     },
     "execution_count": 25,
     "metadata": {},
     "output_type": "execute_result"
    }
   ],
   "source": [
    "np.round(clf.predict_proba(X_test), 3)[:10]"
   ]
  },
  {
   "cell_type": "code",
   "execution_count": 26,
   "metadata": {},
   "outputs": [
    {
     "data": {
      "text/plain": [
       "array([[0.97, 0.03],\n",
       "       [1.  , 0.  ],\n",
       "       [1.  , 0.  ],\n",
       "       [0.  , 1.  ],\n",
       "       [0.  , 1.  ],\n",
       "       [0.  , 1.  ],\n",
       "       [1.  , 0.  ],\n",
       "       [0.  , 1.  ],\n",
       "       [0.  , 1.  ],\n",
       "       [0.  , 1.  ]])"
      ]
     },
     "execution_count": 26,
     "metadata": {},
     "output_type": "execute_result"
    }
   ],
   "source": [
    "np.round(N.y_hat, 2)[:10]"
   ]
  },
  {
   "cell_type": "code",
   "execution_count": 27,
   "metadata": {},
   "outputs": [
    {
     "data": {
      "text/plain": [
       "array([[-0.08,  1.42, -1.08, -0.6 , -1.61, -0.44, -0.86, -0.15, -0.1 ,\n",
       "         0.04, -1.46,  0.13, -0.85,  2.19, -0.47],\n",
       "       [ 0.17, -1.36, -0.7 , -0.73,  1.46,  0.23,  1.17, -0.19,  0.19,\n",
       "         0.38, -1.02, -0.46,  2.24, -1.38,  0.38],\n",
       "       [-0.4 ,  0.76, -0.28, -0.41,  1.57, -0.23,  1.34,  0.33, -0.48,\n",
       "         0.25, -0.94,  0.21,  2.13,  1.1 , -0.4 ],\n",
       "       [-0.05,  0.67, -0.67, -0.44, -1.12, -0.54, -0.62, -0.29, -0.23,\n",
       "        -0.01, -1.03,  0.02,  0.09,  1.06,  0.2 ],\n",
       "       [-0.4 , -0.13, -0.28, -0.38, -2.04, -0.03,  0.73,  0.01,  0.44,\n",
       "         0.09, -0.18, -0.43, -1.44,  0.16, -0.1 ],\n",
       "       [-0.33, -1.65, -0.62, -0.04,  1.07,  0.25,  0.92,  0.25, -0.15,\n",
       "        -0.23, -1.26, -0.14,  4.48, -1.44,  0.12],\n",
       "       [-0.39,  2.4 , -0.59, -0.36,  1.4 , -0.33,  1.98,  0.07, -0.5 ,\n",
       "         0.12, -1.1 , -0.01, -1.43,  2.01,  0.41],\n",
       "       [ 0.12,  1.44, -0.52, -0.24,  0.6 , -0.34, -0.12,  0.43,  0.2 ,\n",
       "        -0.43, -1.06,  0.21,  1.99,  1.09, -0.38],\n",
       "       [-0.48, -1.07, -0.57, -0.38, -1.17,  0.06,  0.88,  0.34, -0.38,\n",
       "        -0.22, -0.19,  0.2 , -0.3 , -0.7 ,  0.3 ]])"
      ]
     },
     "execution_count": 27,
     "metadata": {},
     "output_type": "execute_result"
    }
   ],
   "source": [
    "np.round(clf.coefs_[0], 2)"
   ]
  },
  {
   "cell_type": "code",
   "execution_count": 28,
   "metadata": {},
   "outputs": [
    {
     "data": {
      "text/plain": [
       "array([[ 1.16,  1.18,  0.03,  1.65, -0.15,  1.29,  0.01, -1.46,  1.73,\n",
       "         1.27, -0.26,  1.2 ,  2.  , -0.06,  1.17],\n",
       "       [-0.59,  0.61, -0.11,  0.4 , -1.34, -1.13, -0.16, -0.33, -0.26,\n",
       "         2.2 , -0.91, -0.02, -1.18,  2.  ,  0.97],\n",
       "       [-0.02,  1.24, -0.31, -2.81,  0.16, -0.19,  0.11,  0.81, -0.03,\n",
       "         0.56, -0.75, -1.62, -0.39,  0.35, -0.27],\n",
       "       [ 0.81, -0.44,  0.13,  0.2 , -0.3 , -2.93, -0.44,  0.86, -1.82,\n",
       "         0.66, -1.08, -0.45,  0.35,  1.04, -0.25],\n",
       "       [-0.4 , -0.16, -0.34, -3.73,  0.38,  0.5 , -1.69,  0.91,  0.45,\n",
       "         0.09,  1.54, -0.39,  0.49, -1.36,  0.14],\n",
       "       [-0.63, -1.86, -0.2 ,  0.99, -0.88, -0.51,  4.05,  0.4 , -1.36,\n",
       "         0.52, -0.13,  2.17, -0.16, -1.78,  0.22],\n",
       "       [ 0.19, -0.23, -0.04,  0.96,  0.95,  0.95, -0.33,  1.87, -1.63,\n",
       "         0.85, -0.11, -2.68, -0.9 ,  0.83, -0.58],\n",
       "       [ 0.68,  0.23, -0.26,  0.06,  0.71,  0.49, -0.17, -0.77,  2.83,\n",
       "        -0.82,  1.21,  0.9 , -0.44,  0.76,  0.21],\n",
       "       [ 0.56, -0.63,  0.02,  0.61, -0.88,  0.48, -1.53,  2.3 ,  2.56,\n",
       "         0.23, -1.  ,  2.35,  0.66,  0.3 , -0.7 ]])"
      ]
     },
     "execution_count": 28,
     "metadata": {},
     "output_type": "execute_result"
    }
   ],
   "source": [
    "np.round(N.Ws[0], 2)"
   ]
  },
  {
   "cell_type": "code",
   "execution_count": null,
   "metadata": {},
   "outputs": [],
   "source": []
  }
 ],
 "metadata": {
  "kernelspec": {
   "display_name": "Python 3",
   "language": "python",
   "name": "python3"
  },
  "language_info": {
   "codemirror_mode": {
    "name": "ipython",
    "version": 3
   },
   "file_extension": ".py",
   "mimetype": "text/x-python",
   "name": "python",
   "nbconvert_exporter": "python",
   "pygments_lexer": "ipython3",
   "version": "3.6.6"
  }
 },
 "nbformat": 4,
 "nbformat_minor": 2
}
