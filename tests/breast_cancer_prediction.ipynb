{
 "cells": [
  {
   "cell_type": "code",
   "execution_count": 1,
   "metadata": {},
   "outputs": [],
   "source": [
    "import sys\n",
    "sys.path.append('../')"
   ]
  },
  {
   "cell_type": "code",
   "execution_count": 2,
   "metadata": {},
   "outputs": [],
   "source": [
    "import numpy as np\n",
    "from sklearn.model_selection import train_test_split\n",
    "from sklearn import preprocessing\n",
    "from nn.sdnn import DNN"
   ]
  },
  {
   "cell_type": "code",
   "execution_count": 3,
   "metadata": {},
   "outputs": [
    {
     "data": {
      "text/plain": [
       "(699, 11)"
      ]
     },
     "execution_count": 3,
     "metadata": {},
     "output_type": "execute_result"
    }
   ],
   "source": [
    "# https://archive.ics.uci.edu/ml/machine-learning-databases/breast-cancer-wisconsin/breast-cancer-wisconsin.data\n",
    "data = np.genfromtxt('data/breast-cancer-wisconsin.data.txt', delimiter=',')\n",
    "data.shape"
   ]
  },
  {
   "cell_type": "code",
   "execution_count": 4,
   "metadata": {},
   "outputs": [
    {
     "data": {
      "text/plain": [
       "(683, 10)"
      ]
     },
     "execution_count": 4,
     "metadata": {},
     "output_type": "execute_result"
    }
   ],
   "source": [
    "data = data[~np.isnan(data).any(axis=1)] # drop nans\n",
    "data = data[:, 1:]                       # drop the id field\n",
    "data.shape"
   ]
  },
  {
   "cell_type": "code",
   "execution_count": 5,
   "metadata": {},
   "outputs": [
    {
     "data": {
      "text/plain": [
       "((683, 9), (683, 1))"
      ]
     },
     "execution_count": 5,
     "metadata": {},
     "output_type": "execute_result"
    }
   ],
   "source": [
    "X = data[:, 0:-1]\n",
    "y = data[:, -1:] # 2 or 4\n",
    "X.shape, y.shape"
   ]
  },
  {
   "cell_type": "code",
   "execution_count": 6,
   "metadata": {},
   "outputs": [
    {
     "data": {
      "text/plain": [
       "array([ 5.,  4.,  4.,  5.,  7., 10.,  3.,  2.,  1.])"
      ]
     },
     "execution_count": 6,
     "metadata": {},
     "output_type": "execute_result"
    }
   ],
   "source": [
    "X[1]"
   ]
  },
  {
   "cell_type": "code",
   "execution_count": 7,
   "metadata": {},
   "outputs": [],
   "source": [
    "y = np.zeros([len(data), 2])\n",
    "for i in range(0, len(data)):\n",
    "    if data[i, -1] == 2:\n",
    "        y[i, 0] = 0\n",
    "        y[i, 1] = 1\n",
    "    else:\n",
    "        y[i, 0] = 1\n",
    "        y[i, 1] = 0"
   ]
  },
  {
   "cell_type": "code",
   "execution_count": 8,
   "metadata": {},
   "outputs": [],
   "source": [
    "X = preprocessing.normalize(X)"
   ]
  },
  {
   "cell_type": "code",
   "execution_count": 9,
   "metadata": {},
   "outputs": [],
   "source": [
    "X_train, X_test, y_train, y_test = train_test_split(X, y, test_size=0.33)"
   ]
  },
  {
   "cell_type": "code",
   "execution_count": 10,
   "metadata": {},
   "outputs": [
    {
     "data": {
      "text/plain": [
       "array([[0.55708601, 0.37139068, 0.18569534, 0.18569534, 0.37139068,\n",
       "        0.18569534, 0.37139068, 0.37139068, 0.18569534],\n",
       "       [0.64888568, 0.16222142, 0.16222142, 0.16222142, 0.32444284,\n",
       "        0.48666426, 0.32444284, 0.16222142, 0.16222142],\n",
       "       [0.28867513, 0.28867513, 0.28867513, 0.28867513, 0.57735027,\n",
       "        0.28867513, 0.28867513, 0.28867513, 0.28867513]])"
      ]
     },
     "execution_count": 10,
     "metadata": {},
     "output_type": "execute_result"
    }
   ],
   "source": [
    "X_train[:3]"
   ]
  },
  {
   "cell_type": "code",
   "execution_count": 11,
   "metadata": {},
   "outputs": [
    {
     "data": {
      "text/plain": [
       "((683, 9), (683, 2))"
      ]
     },
     "execution_count": 11,
     "metadata": {},
     "output_type": "execute_result"
    }
   ],
   "source": [
    "X.shape, y.shape"
   ]
  },
  {
   "cell_type": "code",
   "execution_count": 12,
   "metadata": {},
   "outputs": [
    {
     "name": "stdout",
     "output_type": "stream",
     "text": [
      "Optimization terminated successfully.\n",
      "         Current function value: 0.000000\n",
      "         Iterations: 189\n",
      "         Function evaluations: 196\n",
      "         Gradient evaluations: 196\n"
     ]
    }
   ],
   "source": [
    "N = DNN(shape=[9, 15, 19, 2])\n",
    "N.train(X_train, y_train)"
   ]
  },
  {
   "cell_type": "code",
   "execution_count": 13,
   "metadata": {},
   "outputs": [
    {
     "data": {
      "image/png": "[encoded data removed]",
      "text/plain": [
       "<Figure size 432x288 with 1 Axes>"
      ]
     },
     "metadata": {},
     "output_type": "display_data"
    }
   ],
   "source": [
    "N.plot_cost()"
   ]
  },
  {
   "cell_type": "code",
   "execution_count": 14,
   "metadata": {},
   "outputs": [
    {
     "data": {
      "text/plain": [
       "0.8938053097345132"
      ]
     },
     "execution_count": 14,
     "metadata": {},
     "output_type": "execute_result"
    }
   ],
   "source": [
    "N.compute_accuracy(X_test, y_test)"
   ]
  },
  {
   "cell_type": "code",
   "execution_count": 15,
   "metadata": {},
   "outputs": [
    {
     "name": "stdout",
     "output_type": "stream",
     "text": [
      "Optimization terminated successfully.\n",
      "         Current function value: 0.000000\n",
      "         Iterations: 169\n",
      "         Function evaluations: 181\n",
      "         Gradient evaluations: 181\n"
     ]
    }
   ],
   "source": [
    "N2 = DNN(shape=[9, 25, 35, 8, 2])\n",
    "N2.train(X_train, y_train)"
   ]
  },
  {
   "cell_type": "code",
   "execution_count": 16,
   "metadata": {},
   "outputs": [
    {
     "data": {
      "image/png": "[encoded data removed]",
      "text/plain": [
       "<Figure size 432x288 with 1 Axes>"
      ]
     },
     "metadata": {},
     "output_type": "display_data"
    }
   ],
   "source": [
    "N2.plot_cost()"
   ]
  },
  {
   "cell_type": "code",
   "execution_count": 17,
   "metadata": {},
   "outputs": [
    {
     "data": {
      "text/plain": [
       "0.9026548672566371"
      ]
     },
     "execution_count": 17,
     "metadata": {},
     "output_type": "execute_result"
    }
   ],
   "source": [
    "N2.compute_accuracy(X_test, y_test)"
   ]
  },
  {
   "cell_type": "code",
   "execution_count": 19,
   "metadata": {},
   "outputs": [],
   "source": [
    "# compare with sklearns implementation\n",
    "from sklearn.neural_network import MLPClassifier\n",
    "from sklearn.metrics import accuracy_score\n",
    "\n",
    "clf = MLPClassifier(solver='lbfgs', alpha=1e-5, hidden_layer_sizes=(15, 19), random_state=1)"
   ]
  },
  {
   "cell_type": "code",
   "execution_count": 20,
   "metadata": {},
   "outputs": [
    {
     "data": {
      "text/plain": [
       "(array([1, 1, 1], dtype=int64), array([0, 1, 1], dtype=int64))"
      ]
     },
     "execution_count": 20,
     "metadata": {},
     "output_type": "execute_result"
    }
   ],
   "source": [
    "ymlp_train = y_train.argmax(axis=1)\n",
    "ymlp_test = y_test.argmax(axis=1)\n",
    "\n",
    "ymlp_train[:3], ymlp_test[:3]"
   ]
  },
  {
   "cell_type": "code",
   "execution_count": 21,
   "metadata": {},
   "outputs": [
    {
     "data": {
      "text/plain": [
       "MLPClassifier(activation='relu', alpha=1e-05, batch_size='auto', beta_1=0.9,\n",
       "       beta_2=0.999, early_stopping=False, epsilon=1e-08,\n",
       "       hidden_layer_sizes=(15, 19), learning_rate='constant',\n",
       "       learning_rate_init=0.001, max_iter=200, momentum=0.9,\n",
       "       nesterovs_momentum=True, power_t=0.5, random_state=1, shuffle=True,\n",
       "       solver='lbfgs', tol=0.0001, validation_fraction=0.1, verbose=False,\n",
       "       warm_start=False)"
      ]
     },
     "execution_count": 21,
     "metadata": {},
     "output_type": "execute_result"
    }
   ],
   "source": [
    "clf.fit(X_train, ymlp_train)"
   ]
  },
  {
   "cell_type": "code",
   "execution_count": 22,
   "metadata": {},
   "outputs": [
    {
     "data": {
      "text/plain": [
       "(0.8805309734513275, 0.8938053097345132)"
      ]
     },
     "execution_count": 22,
     "metadata": {},
     "output_type": "execute_result"
    }
   ],
   "source": [
    "accuracy_score(ymlp_test, clf.predict(X_test)), N.compute_accuracy(X_test, y_test)"
   ]
  },
  {
   "cell_type": "code",
   "execution_count": 23,
   "metadata": {},
   "outputs": [
    {
     "data": {
      "text/plain": [
       "array([[0.971, 0.029],\n",
       "       [0.998, 0.002],\n",
       "       [0.   , 1.   ],\n",
       "       [0.542, 0.458],\n",
       "       [0.   , 1.   ],\n",
       "       [0.005, 0.995],\n",
       "       [0.   , 1.   ],\n",
       "       [0.001, 0.999],\n",
       "       [0.273, 0.727],\n",
       "       [0.728, 0.272]])"
      ]
     },
     "execution_count": 23,
     "metadata": {},
     "output_type": "execute_result"
    }
   ],
   "source": [
    "np.round(clf.predict_proba(X_test), 3)[:10]"
   ]
  },
  {
   "cell_type": "code",
   "execution_count": 24,
   "metadata": {},
   "outputs": [
    {
     "data": {
      "text/plain": [
       "array([[1., 0.],\n",
       "       [1., 0.],\n",
       "       [0., 1.],\n",
       "       [1., 0.],\n",
       "       [0., 1.],\n",
       "       [1., 0.],\n",
       "       [0., 1.],\n",
       "       [0., 1.],\n",
       "       [0., 1.],\n",
       "       [1., 0.]])"
      ]
     },
     "execution_count": 24,
     "metadata": {},
     "output_type": "execute_result"
    }
   ],
   "source": [
    "np.round(N.y_hat, 2)[:10]"
   ]
  },
  {
   "cell_type": "code",
   "execution_count": 25,
   "metadata": {},
   "outputs": [
    {
     "data": {
      "text/plain": [
       "array([[-0.08, -0.66, -1.33, -0.83,  1.25, -0.47, -0.98,  0.4 , -0.1 ,\n",
       "         0.04, -2.37,  0.03,  0.86,  0.16, -0.47],\n",
       "       [ 0.17, -0.93, -0.95, -0.58,  4.15,  0.19, -0.01,  0.12,  0.19,\n",
       "         0.38, -1.65, -0.58,  5.44, -2.35,  0.38],\n",
       "       [-0.4 , -0.5 , -0.56, -0.44,  2.13, -0.27, -0.09,  0.43, -0.48,\n",
       "         0.25, -1.63,  0.08,  4.31, -0.69, -0.4 ],\n",
       "       [-0.05,  0.21, -0.92, -0.44,  1.75, -0.56, -0.21, -0.57, -0.23,\n",
       "        -0.01, -1.41, -0.03,  3.47, -0.52,  0.2 ],\n",
       "       [-0.4 ,  1.45, -0.42, -0.37, -2.74, -0.08,  0.36, -0.77,  0.44,\n",
       "         0.09, -0.28, -0.45, -2.88,  2.21, -0.1 ],\n",
       "       [-0.33,  0.35, -0.83, -0.09,  1.2 ,  0.05,  0.03,  0.37, -0.15,\n",
       "        -0.23, -2.25, -0.31,  5.63, -0.13,  0.12],\n",
       "       [-0.39,  2.13, -0.84, -0.46, -2.11, -0.41,  1.02, -0.65, -0.5 ,\n",
       "         0.12, -1.61, -0.08, -2.96,  1.94,  0.41],\n",
       "       [ 0.12,  0.09, -0.93, -0.25,  0.36, -0.35,  0.05,  1.09,  0.2 ,\n",
       "        -0.43, -1.89,  0.2 ,  3.16,  0.14, -0.38],\n",
       "       [-0.48,  0.77, -0.61, -0.47, -5.85,  0.09,  0.56,  1.81, -0.38,\n",
       "        -0.22, -0.16,  0.1 , -3.2 ,  1.14,  0.3 ]])"
      ]
     },
     "execution_count": 25,
     "metadata": {},
     "output_type": "execute_result"
    }
   ],
   "source": [
    "np.round(clf.coefs_[0], 2)"
   ]
  },
  {
   "cell_type": "code",
   "execution_count": 26,
   "metadata": {},
   "outputs": [
    {
     "data": {
      "text/plain": [
       "array([[ -1.1 ,  11.95,  -1.04,   2.26,   4.92,  -5.27,   7.99,   1.1 ,\n",
       "          0.78,   4.6 ,   0.42,   0.24,   4.02,   7.47,   3.28],\n",
       "       [  3.15,  -2.18,  -0.46,   5.21,  -3.34,  -5.97,  -3.26,  -9.12,\n",
       "          0.16,  12.24,  -2.  ,  -1.45,  -9.91,   8.47,  -0.53],\n",
       "       [  4.71,   1.53,  -0.83,  -7.06,  -3.08,   1.  ,  10.7 ,  -1.84,\n",
       "          4.34,  -0.58,  -7.75,  -0.35,  -5.56,   1.15,   8.23],\n",
       "       [  7.53,   4.02,  -0.09,   0.3 , -11.8 ,  -1.63,  -7.39, -10.56,\n",
       "         -2.36,  12.83,   3.36,  -3.5 ,  -1.13,  -0.51,  -0.55],\n",
       "       [  1.05,  -1.03,  -1.11,  -0.22,   2.39,  -0.13,  -5.27,  -2.07,\n",
       "         -2.14,  -5.29,  -2.34,  -1.67,   4.79,  -1.52,   6.76],\n",
       "       [ -8.95, -11.04,  -0.57,  -7.71,  -2.74,   0.39,   5.15,   9.57,\n",
       "         -1.87,  -2.51,   0.12,  15.25,  -0.11, -10.99,   8.9 ],\n",
       "       [  5.21,  -1.56,  -0.54,   8.09,   6.64,  -7.11,   1.65,  -7.8 ,\n",
       "         -4.84,   3.19,   6.79, -10.98, -12.58,  10.1 ,   7.79],\n",
       "       [  3.04,  -7.91,  -0.72,   4.78,   2.38, -11.73,  24.04,  -1.62,\n",
       "          9.44,  -8.  ,   4.8 ,   5.14,   7.38,   1.71,  -1.96],\n",
       "       [  2.22,   2.14,  -0.23,  -0.08,  -9.37,  -1.42,  -0.81,   5.51,\n",
       "          4.3 ,   1.79,   3.43,   7.04,  -2.48,  -0.06,  -9.58]])"
      ]
     },
     "execution_count": 26,
     "metadata": {},
     "output_type": "execute_result"
    }
   ],
   "source": [
    "np.round(N.Ws[0], 2)"
   ]
  }
 ],
 "metadata": {
  "kernelspec": {
   "display_name": "Python 3",
   "language": "python",
   "name": "python3"
  },
  "language_info": {
   "codemirror_mode": {
    "name": "ipython",
    "version": 3
   },
   "file_extension": ".py",
   "mimetype": "text/x-python",
   "name": "python",
   "nbconvert_exporter": "python",
   "pygments_lexer": "ipython3",
   "version": "3.6.6"
  }
 },
 "nbformat": 4,
 "nbformat_minor": 2
}
