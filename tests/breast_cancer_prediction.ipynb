{
 "cells": [
  {
   "cell_type": "code",
   "execution_count": 1,
   "metadata": {},
   "outputs": [],
   "source": [
    "import sys\n",
    "sys.path.append('../')"
   ]
  },
  {
   "cell_type": "code",
   "execution_count": 2,
   "metadata": {},
   "outputs": [],
   "source": [
    "import numpy as np\n",
    "from sklearn.model_selection import train_test_split\n",
    "from sklearn import preprocessing\n",
    "from nn.sdnn import DNN\n",
    "import matplotlib.pyplot as plt\n",
    "from matplotlib import style"
   ]
  },
  {
   "cell_type": "code",
   "execution_count": 3,
   "metadata": {},
   "outputs": [],
   "source": [
    "style.use('ggplot')"
   ]
  },
  {
   "cell_type": "code",
   "execution_count": 4,
   "metadata": {},
   "outputs": [
    {
     "data": {
      "text/plain": [
       "(699, 11)"
      ]
     },
     "execution_count": 4,
     "metadata": {},
     "output_type": "execute_result"
    }
   ],
   "source": [
    "# https://archive.ics.uci.edu/ml/machine-learning-databases/breast-cancer-wisconsin/breast-cancer-wisconsin.data\n",
    "data = np.genfromtxt('data/breast-cancer-wisconsin.data.txt', delimiter=',')\n",
    "data.shape"
   ]
  },
  {
   "cell_type": "code",
   "execution_count": 5,
   "metadata": {},
   "outputs": [
    {
     "data": {
      "text/plain": [
       "(683, 10)"
      ]
     },
     "execution_count": 5,
     "metadata": {},
     "output_type": "execute_result"
    }
   ],
   "source": [
    "data = data[~np.isnan(data).any(axis=1)] # drop nans\n",
    "data = data[:, 1:]                       # drop the id field\n",
    "data.shape"
   ]
  },
  {
   "cell_type": "code",
   "execution_count": 6,
   "metadata": {},
   "outputs": [
    {
     "data": {
      "text/plain": [
       "((683, 9), (683, 1))"
      ]
     },
     "execution_count": 6,
     "metadata": {},
     "output_type": "execute_result"
    }
   ],
   "source": [
    "X = data[:, 0:-1]\n",
    "y = data[:, -1:] # 2 or 4\n",
    "X.shape, y.shape"
   ]
  },
  {
   "cell_type": "code",
   "execution_count": 7,
   "metadata": {},
   "outputs": [
    {
     "data": {
      "text/plain": [
       "array([ 5.,  4.,  4.,  5.,  7., 10.,  3.,  2.,  1.])"
      ]
     },
     "execution_count": 7,
     "metadata": {},
     "output_type": "execute_result"
    }
   ],
   "source": [
    "X[1]"
   ]
  },
  {
   "cell_type": "code",
   "execution_count": 8,
   "metadata": {},
   "outputs": [],
   "source": [
    "y = np.zeros([len(data), 2])\n",
    "for i in range(0, len(data)):\n",
    "    if data[i, -1] == 2:\n",
    "        y[i, 0] = 0\n",
    "        y[i, 1] = 1\n",
    "    else:\n",
    "        y[i, 0] = 1\n",
    "        y[i, 1] = 0"
   ]
  },
  {
   "cell_type": "code",
   "execution_count": 9,
   "metadata": {},
   "outputs": [],
   "source": [
    "X = preprocessing.normalize(X)"
   ]
  },
  {
   "cell_type": "code",
   "execution_count": 10,
   "metadata": {},
   "outputs": [],
   "source": [
    "X_train, X_test, y_train, y_test = train_test_split(X, y, test_size=0.33)"
   ]
  },
  {
   "cell_type": "code",
   "execution_count": 11,
   "metadata": {},
   "outputs": [
    {
     "data": {
      "text/plain": [
       "array([[0.28867513, 0.28867513, 0.28867513, 0.28867513, 0.57735027,\n",
       "        0.28867513, 0.28867513, 0.28867513, 0.28867513],\n",
       "       [0.76980036, 0.19245009, 0.19245009, 0.19245009, 0.38490018,\n",
       "        0.19245009, 0.19245009, 0.19245009, 0.19245009],\n",
       "       [0.28867513, 0.28867513, 0.28867513, 0.28867513, 0.28867513,\n",
       "        0.28867513, 0.57735027, 0.28867513, 0.28867513]])"
      ]
     },
     "execution_count": 11,
     "metadata": {},
     "output_type": "execute_result"
    }
   ],
   "source": [
    "X_train[:3]"
   ]
  },
  {
   "cell_type": "code",
   "execution_count": 12,
   "metadata": {},
   "outputs": [
    {
     "data": {
      "text/plain": [
       "((683, 9), (683, 2))"
      ]
     },
     "execution_count": 12,
     "metadata": {},
     "output_type": "execute_result"
    }
   ],
   "source": [
    "X.shape, y.shape"
   ]
  },
  {
   "cell_type": "code",
   "execution_count": 13,
   "metadata": {},
   "outputs": [
    {
     "name": "stdout",
     "output_type": "stream",
     "text": [
      "Warning: Maximum number of iterations has been exceeded.\n",
      "         Current function value: 0.026074\n",
      "         Iterations: 200\n",
      "         Function evaluations: 205\n",
      "         Gradient evaluations: 205\n"
     ]
    }
   ],
   "source": [
    "N = DNN(shape=[9, 15, 19, 2])\n",
    "N.train(X_train, y_train)"
   ]
  },
  {
   "cell_type": "code",
   "execution_count": 14,
   "metadata": {},
   "outputs": [
    {
     "data": {
      "image/png": "[encoded data removed]",
      "text/plain": [
       "<Figure size 432x288 with 1 Axes>"
      ]
     },
     "metadata": {},
     "output_type": "display_data"
    }
   ],
   "source": [
    "plt.plot(N.J)\n",
    "plt.title('Optimization Results')\n",
    "plt.xlabel('Iterations')\n",
    "plt.ylabel('Cost/Loss')\n",
    "plt.show()"
   ]
  },
  {
   "cell_type": "code",
   "execution_count": 15,
   "metadata": {},
   "outputs": [
    {
     "data": {
      "text/plain": [
       "0.8716814159292036"
      ]
     },
     "execution_count": 15,
     "metadata": {},
     "output_type": "execute_result"
    }
   ],
   "source": [
    "N.compute_accuracy(X_test, y_test)"
   ]
  },
  {
   "cell_type": "code",
   "execution_count": 16,
   "metadata": {},
   "outputs": [
    {
     "name": "stdout",
     "output_type": "stream",
     "text": [
      "Warning: Maximum number of iterations has been exceeded.\n",
      "         Current function value: 0.016602\n",
      "         Iterations: 200\n",
      "         Function evaluations: 209\n",
      "         Gradient evaluations: 209\n"
     ]
    }
   ],
   "source": [
    "N2 = DNN(shape=[9, 25, 35, 8, 2])\n",
    "N2.train(X_train, y_train)"
   ]
  },
  {
   "cell_type": "code",
   "execution_count": 17,
   "metadata": {},
   "outputs": [
    {
     "data": {
      "image/png": "[encoded data removed]",
      "text/plain": [
       "<Figure size 432x288 with 1 Axes>"
      ]
     },
     "metadata": {},
     "output_type": "display_data"
    }
   ],
   "source": [
    "plt.plot(N2.J)\n",
    "plt.title('Optimization Results')\n",
    "plt.xlabel('Iterations')\n",
    "plt.ylabel('Cost/Loss')\n",
    "plt.show()"
   ]
  },
  {
   "cell_type": "code",
   "execution_count": 18,
   "metadata": {},
   "outputs": [
    {
     "data": {
      "text/plain": [
       "0.8495575221238938"
      ]
     },
     "execution_count": 18,
     "metadata": {},
     "output_type": "execute_result"
    }
   ],
   "source": [
    "N2.compute_accuracy(X_test, y_test)"
   ]
  },
  {
   "cell_type": "code",
   "execution_count": 19,
   "metadata": {},
   "outputs": [],
   "source": [
    "# compare with sklearns implementation\n",
    "from sklearn.neural_network import MLPClassifier\n",
    "from sklearn.metrics import accuracy_score\n",
    "\n",
    "clf = MLPClassifier(solver='lbfgs', alpha=1e-5, hidden_layer_sizes=(15, 19), random_state=1)"
   ]
  },
  {
   "cell_type": "code",
   "execution_count": 20,
   "metadata": {},
   "outputs": [
    {
     "data": {
      "text/plain": [
       "(array([1, 1, 1], dtype=int64), array([1, 1, 1], dtype=int64))"
      ]
     },
     "execution_count": 20,
     "metadata": {},
     "output_type": "execute_result"
    }
   ],
   "source": [
    "ymlp_train = y_train.argmax(axis=1)\n",
    "ymlp_test = y_test.argmax(axis=1)\n",
    "\n",
    "ymlp_train[:3], ymlp_test[:3]"
   ]
  },
  {
   "cell_type": "code",
   "execution_count": 21,
   "metadata": {},
   "outputs": [
    {
     "data": {
      "text/plain": [
       "MLPClassifier(activation='relu', alpha=1e-05, batch_size='auto', beta_1=0.9,\n",
       "       beta_2=0.999, early_stopping=False, epsilon=1e-08,\n",
       "       hidden_layer_sizes=(15, 19), learning_rate='constant',\n",
       "       learning_rate_init=0.001, max_iter=200, momentum=0.9,\n",
       "       nesterovs_momentum=True, power_t=0.5, random_state=1, shuffle=True,\n",
       "       solver='lbfgs', tol=0.0001, validation_fraction=0.1, verbose=False,\n",
       "       warm_start=False)"
      ]
     },
     "execution_count": 21,
     "metadata": {},
     "output_type": "execute_result"
    }
   ],
   "source": [
    "clf.fit(X_train, ymlp_train)"
   ]
  },
  {
   "cell_type": "code",
   "execution_count": 22,
   "metadata": {},
   "outputs": [
    {
     "data": {
      "text/plain": [
       "(0.8893805309734514, 0.8716814159292036)"
      ]
     },
     "execution_count": 22,
     "metadata": {},
     "output_type": "execute_result"
    }
   ],
   "source": [
    "accuracy_score(ymlp_test, clf.predict(X_test)), N.compute_accuracy(X_test, y_test)"
   ]
  },
  {
   "cell_type": "code",
   "execution_count": 23,
   "metadata": {},
   "outputs": [
    {
     "data": {
      "text/plain": [
       "array([[0.977, 0.023],\n",
       "       [0.   , 1.   ],\n",
       "       [0.   , 1.   ],\n",
       "       [0.   , 1.   ],\n",
       "       [0.001, 0.999],\n",
       "       [0.   , 1.   ],\n",
       "       [0.848, 0.152],\n",
       "       [0.001, 0.999],\n",
       "       [0.004, 0.996],\n",
       "       [0.17 , 0.83 ]])"
      ]
     },
     "execution_count": 23,
     "metadata": {},
     "output_type": "execute_result"
    }
   ],
   "source": [
    "np.round(clf.predict_proba(X_test), 3)[:10]"
   ]
  },
  {
   "cell_type": "code",
   "execution_count": 24,
   "metadata": {},
   "outputs": [
    {
     "data": {
      "text/plain": [
       "array([[1.  , 0.  ],\n",
       "       [0.  , 1.  ],\n",
       "       [0.  , 1.  ],\n",
       "       [0.  , 1.  ],\n",
       "       [0.  , 1.  ],\n",
       "       [0.  , 1.  ],\n",
       "       [1.  , 0.  ],\n",
       "       [0.  , 1.  ],\n",
       "       [0.  , 1.  ],\n",
       "       [0.77, 0.23]])"
      ]
     },
     "execution_count": 24,
     "metadata": {},
     "output_type": "execute_result"
    }
   ],
   "source": [
    "np.round(N.y_hat, 2)[:10]"
   ]
  },
  {
   "cell_type": "code",
   "execution_count": 25,
   "metadata": {},
   "outputs": [
    {
     "data": {
      "text/plain": [
       "array([[-0.08,  0.54, -0.84, -0.74,  0.7 , -0.48, -1.24, -0.15, -0.1 ,\n",
       "         0.04, -1.19,  0.29,  0.63,  0.81, -0.47],\n",
       "       [ 0.17,  0.43, -0.44, -0.54,  1.04,  0.19, -0.56, -0.19,  0.19,\n",
       "         0.38, -0.84,  1.01,  4.46, -1.79,  0.38],\n",
       "       [-0.4 ,  1.8 ,  0.08, -0.28,  0.35, -0.29, -0.28,  0.33, -0.48,\n",
       "         0.25, -0.74,  0.27,  2.15,  1.25, -0.4 ],\n",
       "       [-0.05,  1.48, -0.53, -0.45, -0.12, -0.54, -0.27, -0.29, -0.23,\n",
       "        -0.01, -1.1 , -0.04,  1.18,  0.6 ,  0.2 ],\n",
       "       [-0.4 ,  0.38, -0.01, -0.41,  1.34, -0.08, -0.09,  0.01,  0.44,\n",
       "         0.09, -0.06, -1.58, -0.86, -0.74, -0.1 ],\n",
       "       [-0.33, -2.31, -0.53,  0.07,  5.39,  0.2 , -0.13,  0.25, -0.15,\n",
       "        -0.23, -1.22,  0.45,  3.43, -0.53,  0.12],\n",
       "       [-0.39,  1.73, -0.33, -0.36, -0.79, -0.37,  0.25,  0.07, -0.5 ,\n",
       "         0.12, -1.02,  0.04, -2.05,  2.1 ,  0.41],\n",
       "       [ 0.12,  0.98, -0.13, -0.12, -0.44, -0.36, -0.52,  0.43,  0.2 ,\n",
       "        -0.43, -0.83,  0.76,  2.21, -0.6 , -0.38],\n",
       "       [-0.48, -1.69, -0.44, -0.52, -5.55,  0.01,  0.38,  0.34, -0.38,\n",
       "        -0.22,  0.02,  3.17, -1.19,  0.03,  0.3 ]])"
      ]
     },
     "execution_count": 25,
     "metadata": {},
     "output_type": "execute_result"
    }
   ],
   "source": [
    "np.round(clf.coefs_[0], 2)"
   ]
  },
  {
   "cell_type": "code",
   "execution_count": 26,
   "metadata": {},
   "outputs": [
    {
     "data": {
      "text/plain": [
       "array([[-2.57, -0.  ,  0.5 , -0.89, -0.19,  3.39, -0.14,  3.79,  0.12,\n",
       "        -0.39,  0.1 ,  0.8 ,  2.01, -0.11,  0.29],\n",
       "       [-1.93,  0.36,  0.09, -0.99,  0.14, -0.07,  1.35, -1.67,  0.63,\n",
       "        -0.41, -0.27,  0.83, -1.67, -0.8 ,  0.36],\n",
       "       [ 1.51,  0.28, -0.61, -3.32, -0.44,  0.29, -0.87, -0.84,  0.15,\n",
       "         0.15,  0.19,  0.07, -0.11, -0.33,  0.98],\n",
       "       [-0.81,  1.32,  0.9 ,  2.26, -0.53,  1.47,  2.65, -0.21,  0.47,\n",
       "        -0.3 ,  0.06,  0.88,  0.46, -0.26,  1.4 ],\n",
       "       [ 3.03,  1.08, -0.05,  2.36, -0.27, -0.31,  0.53,  0.35,  1.09,\n",
       "        -0.3 , -0.36, -1.15,  0.35, -0.17,  0.71],\n",
       "       [-0.32,  1.14, -0.47,  1.3 ,  0.14, -1.35, -1.  , -0.61, -1.24,\n",
       "        -0.43, -0.04,  1.13, -3.11, -0.23, -2.1 ],\n",
       "       [ 0.46,  0.39, -0.01, -0.72, -0.17, -0.74, -0.12, -1.27,  0.7 ,\n",
       "         0.1 , -0.33,  0.16,  1.86, -0.27, -1.67],\n",
       "       [-0.53,  0.83, -2.71, -0.82, -0.17, -1.06,  0.36, -0.72, -0.24,\n",
       "        -0.17, -0.45,  1.04,  0.61, -0.18, -0.19],\n",
       "       [ 0.88, -3.34, -0.18,  0.19, -0.55, -0.8 ,  2.42, -1.85,  0.06,\n",
       "         0.19,  0.11,  0.12,  0.82, -0.45, -0.34]])"
      ]
     },
     "execution_count": 26,
     "metadata": {},
     "output_type": "execute_result"
    }
   ],
   "source": [
    "np.round(N.Ws[0], 2)"
   ]
  },
  {
   "cell_type": "code",
   "execution_count": null,
   "metadata": {},
   "outputs": [],
   "source": []
  }
 ],
 "metadata": {
  "kernelspec": {
   "display_name": "Python 3",
   "language": "python",
   "name": "python3"
  },
  "language_info": {
   "codemirror_mode": {
    "name": "ipython",
    "version": 3
   },
   "file_extension": ".py",
   "mimetype": "text/x-python",
   "name": "python",
   "nbconvert_exporter": "python",
   "pygments_lexer": "ipython3",
   "version": "3.6.6"
  }
 },
 "nbformat": 4,
 "nbformat_minor": 2
}
