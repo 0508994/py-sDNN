{
 "cells": [
  {
   "cell_type": "code",
   "execution_count": 1,
   "metadata": {},
   "outputs": [],
   "source": [
    "import sys\n",
    "sys.path.append('../')"
   ]
  },
  {
   "cell_type": "code",
   "execution_count": 39,
   "metadata": {},
   "outputs": [],
   "source": [
    "from nn.sdnn import DNN # relu on hidden, sigmoid on output layers in the time of the test\n",
    "from nn.iris import IrisDF"
   ]
  },
  {
   "cell_type": "code",
   "execution_count": 40,
   "metadata": {},
   "outputs": [
    {
     "data": {
      "text/plain": [
       "(array([0.786991  , 0.55745196, 0.26233033, 0.03279129]), array([0, 0, 1]))"
      ]
     },
     "execution_count": 40,
     "metadata": {},
     "output_type": "execute_result"
    }
   ],
   "source": [
    "df = IrisDF()\n",
    "df.X_train[0], df.y_train[0]"
   ]
  },
  {
   "cell_type": "code",
   "execution_count": 41,
   "metadata": {},
   "outputs": [],
   "source": [
    "N = DNN(shape=[4, 10, 6, 3])"
   ]
  },
  {
   "cell_type": "code",
   "execution_count": 42,
   "metadata": {},
   "outputs": [
    {
     "name": "stdout",
     "output_type": "stream",
     "text": [
      "Warning: Desired error not necessarily achieved due to precision loss.\n",
      "         Current function value: 1.000820\n",
      "         Iterations: 36\n",
      "         Function evaluations: 69\n",
      "         Gradient evaluations: 58\n"
     ]
    }
   ],
   "source": [
    "N.train(df.X_train, df.y_train)"
   ]
  },
  {
   "cell_type": "code",
   "execution_count": 43,
   "metadata": {},
   "outputs": [
    {
     "data": {
      "image/png": "[encoded data removed]",
      "text/plain": [
       "<Figure size 432x288 with 1 Axes>"
      ]
     },
     "metadata": {},
     "output_type": "display_data"
    }
   ],
   "source": [
    "N.plot_cost()"
   ]
  },
  {
   "cell_type": "code",
   "execution_count": 44,
   "metadata": {},
   "outputs": [
    {
     "data": {
      "text/plain": [
       "0.9904761904761905"
      ]
     },
     "execution_count": 44,
     "metadata": {},
     "output_type": "execute_result"
    }
   ],
   "source": [
    "N.compute_accuracy(df.X_train, df.y_train)"
   ]
  },
  {
   "cell_type": "code",
   "execution_count": 45,
   "metadata": {},
   "outputs": [
    {
     "data": {
      "text/plain": [
       "0.9555555555555556"
      ]
     },
     "execution_count": 45,
     "metadata": {},
     "output_type": "execute_result"
    }
   ],
   "source": [
    "N.compute_accuracy(df.X_test, df.y_test)"
   ]
  },
  {
   "cell_type": "code",
   "execution_count": 46,
   "metadata": {},
   "outputs": [
    {
     "name": "stdout",
     "output_type": "stream",
     "text": [
      "Warning: Desired error not necessarily achieved due to precision loss.\n",
      "         Current function value: 1.003262\n",
      "         Iterations: 32\n",
      "         Function evaluations: 70\n",
      "         Gradient evaluations: 58\n"
     ]
    }
   ],
   "source": [
    "N2 = DNN(shape=[4, 10, 3])\n",
    "N2.train(df.X_train, df.y_train)"
   ]
  },
  {
   "cell_type": "code",
   "execution_count": 47,
   "metadata": {},
   "outputs": [
    {
     "data": {
      "image/png": "[encoded data removed]",
      "text/plain": [
       "<Figure size 432x288 with 1 Axes>"
      ]
     },
     "metadata": {},
     "output_type": "display_data"
    }
   ],
   "source": [
    "N2.plot_cost()"
   ]
  },
  {
   "cell_type": "code",
   "execution_count": 48,
   "metadata": {},
   "outputs": [
    {
     "data": {
      "text/plain": [
       "0.9333333333333333"
      ]
     },
     "execution_count": 48,
     "metadata": {},
     "output_type": "execute_result"
    }
   ],
   "source": [
    "N2.compute_accuracy(df.X_test, df.y_test)"
   ]
  },
  {
   "cell_type": "code",
   "execution_count": 49,
   "metadata": {},
   "outputs": [
    {
     "name": "stdout",
     "output_type": "stream",
     "text": [
      "[1.00000000e+00 2.16747011e-14 2.05186644e-52]   <-------->   [1 0 0], ?guessed True\n",
      "[7.35670960e-33 1.00000000e+00 1.87906893e-23]   <-------->   [0 1 0], ?guessed True\n",
      "[1.03650409e-05 9.99703743e-01 3.72109652e-39]   <-------->   [0 1 0], ?guessed True\n",
      "[9.99982606e-01 3.99353486e-03 5.15519333e-43]   <-------->   [1 0 0], ?guessed True\n",
      "[4.00565195e-18 1.00000000e+00 5.40890594e-33]   <-------->   [0 1 0], ?guessed True\n",
      "[3.74172511e-11 9.99999850e-01 4.48449005e-36]   <-------->   [0 1 0], ?guessed True\n",
      "[1.00000000e+00 7.88098981e-10 1.10271299e-48]   <-------->   [1 0 0], ?guessed True\n",
      "[1.74796156e-70 9.99997275e-01 1.00000000e+00]   <-------->   [0 1 0], ?guessed False\n",
      "[1.00000000e+00 3.15364386e-14 6.27796174e-51]   <-------->   [1 0 0], ?guessed True\n",
      "[1.00000000e+00 8.01686996e-18 6.62855005e-56]   <-------->   [1 0 0], ?guessed True\n",
      "[1.00000000e+00 1.56510402e-07 3.91493187e-47]   <-------->   [1 0 0], ?guessed True\n",
      "[1.04789731e-24 1.00000000e+00 8.30106214e-31]   <-------->   [0 1 0], ?guessed True\n",
      "[1.22882858e-240 1.40653128e-017 1.00000000e+000]   <-------->   [0 0 1], ?guessed True\n",
      "[1.00000000e+00 5.85231017e-09 1.92109834e-48]   <-------->   [1 0 0], ?guessed True\n",
      "[2.40722621e-10 9.99999194e-01 6.73128341e-36]   <-------->   [0 1 0], ?guessed True\n",
      "[6.74148006e-41 1.00000000e+00 7.27900037e-17]   <-------->   [0 1 0], ?guessed True\n",
      "[3.54780252e-247 7.54659749e-019 1.00000000e+000]   <-------->   [0 0 1], ?guessed True\n",
      "[2.30655501e-10 9.99999575e-01 3.83425330e-36]   <-------->   [0 1 0], ?guessed True\n",
      "[4.31268832e-29 1.00000000e+00 4.16504224e-27]   <-------->   [0 1 0], ?guessed True\n",
      "[1.00000000e+00 4.22220328e-20 2.17391114e-59]   <-------->   [1 0 0], ?guessed True\n",
      "[4.08242822e-244 7.97943889e-019 1.00000000e+000]   <-------->   [0 0 1], ?guessed True\n",
      "[1.00000000e+00 2.53982094e-26 4.38261909e-64]   <-------->   [1 0 0], ?guessed True\n",
      "[8.88806746e-43 1.00000000e+00 4.97563190e-15]   <-------->   [0 1 0], ?guessed True\n",
      "[1.00000000e+00 4.81118251e-23 1.44056661e-61]   <-------->   [1 0 0], ?guessed True\n",
      "[9.99932073e-01 7.74810256e-03 5.70858262e-43]   <-------->   [1 0 0], ?guessed True\n",
      "[2.09036562e-62 9.99999998e-01 9.90952671e-01]   <-------->   [0 1 0], ?guessed True\n",
      "[1.89607235e-20 1.00000000e+00 8.12211879e-32]   <-------->   [0 1 0], ?guessed True\n",
      "[6.13400137e-262 3.17352001e-024 1.00000000e+000]   <-------->   [0 0 1], ?guessed True\n",
      "[1.00000000e+00 4.08979944e-12 7.76225311e-50]   <-------->   [1 0 0], ?guessed True\n",
      "[1.00000000e+00 3.57838849e-18 1.96832287e-56]   <-------->   [1 0 0], ?guessed True\n",
      "[9.99999998e-01 2.15541703e-05 1.94442923e-45]   <-------->   [1 0 0], ?guessed True\n",
      "[3.54676702e-268 3.22643199e-023 1.00000000e+000]   <-------->   [0 0 1], ?guessed True\n",
      "[6.14008387e-236 3.92537753e-017 1.00000000e+000]   <-------->   [0 0 1], ?guessed True\n",
      "[1.00000000e+00 5.83273532e-20 1.18136133e-58]   <-------->   [1 0 0], ?guessed True\n",
      "[1.30351837e-219 6.63605145e-011 1.00000000e+000]   <-------->   [0 0 1], ?guessed True\n",
      "[1.00000000e+00 1.08225192e-08 5.09182486e-48]   <-------->   [1 0 0], ?guessed True\n",
      "[1.00000000e+00 3.46873844e-21 2.16567003e-58]   <-------->   [1 0 0], ?guessed True\n",
      "[1.00000000e+00 1.11874029e-20 2.09445760e-58]   <-------->   [1 0 0], ?guessed True\n",
      "[1.00000000e+00 2.88180694e-14 6.79574783e-52]   <-------->   [0 1 0], ?guessed False\n",
      "[3.30420400e-273 1.99292601e-020 1.00000000e+000]   <-------->   [0 0 1], ?guessed True\n",
      "[1.97536827e-28 1.00000000e+00 2.44475838e-27]   <-------->   [0 1 0], ?guessed True\n",
      "[3.10598988e-17 1.00000000e+00 3.20981652e-34]   <-------->   [0 1 0], ?guessed True\n",
      "[1.00000000e+00 1.20301885e-25 1.56642351e-63]   <-------->   [1 0 0], ?guessed True\n",
      "[1.00000000e+00 3.30682219e-32 6.65269533e-74]   <-------->   [1 0 0], ?guessed True\n",
      "[1.00000000e+00 3.91520889e-07 4.96249078e-48]   <-------->   [0 1 0], ?guessed False\n"
     ]
    }
   ],
   "source": [
    "for yh, y in zip(N2.y_hat, df.y_test):\n",
    "    print('{}   <-------->   {}, ?guessed {}'.format(yh, y, yh.argmax()==y.argmax()))"
   ]
  },
  {
   "cell_type": "code",
   "execution_count": 50,
   "metadata": {},
   "outputs": [
    {
     "name": "stdout",
     "output_type": "stream",
     "text": [
      "Warning: Desired error not necessarily achieved due to precision loss.\n",
      "         Current function value: 16.984383\n",
      "         Iterations: 38\n",
      "         Function evaluations: 79\n",
      "         Gradient evaluations: 67\n"
     ]
    }
   ],
   "source": [
    "N3 = DNN(shape=[4, 20, 10, 6, 3])\n",
    "N3.train(df.X_train, df.y_train)"
   ]
  },
  {
   "cell_type": "code",
   "execution_count": 51,
   "metadata": {},
   "outputs": [
    {
     "data": {
      "image/png": "[encoded data removed]",
      "text/plain": [
       "<Figure size 432x288 with 1 Axes>"
      ]
     },
     "metadata": {},
     "output_type": "display_data"
    }
   ],
   "source": [
    "N3.plot_cost()"
   ]
  },
  {
   "cell_type": "code",
   "execution_count": 52,
   "metadata": {},
   "outputs": [
    {
     "data": {
      "text/plain": [
       "0.9555555555555556"
      ]
     },
     "execution_count": 52,
     "metadata": {},
     "output_type": "execute_result"
    }
   ],
   "source": [
    "N3.compute_accuracy(df.X_test, df.y_test)"
   ]
  }
 ],
 "metadata": {
  "kernelspec": {
   "display_name": "Python 3",
   "language": "python",
   "name": "python3"
  },
  "language_info": {
   "codemirror_mode": {
    "name": "ipython",
    "version": 3
   },
   "file_extension": ".py",
   "mimetype": "text/x-python",
   "name": "python",
   "nbconvert_exporter": "python",
   "pygments_lexer": "ipython3",
   "version": "3.6.6"
  }
 },
 "nbformat": 4,
 "nbformat_minor": 2
}
