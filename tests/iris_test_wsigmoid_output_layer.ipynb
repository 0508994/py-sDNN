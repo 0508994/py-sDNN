{
 "cells": [
  {
   "cell_type": "code",
   "execution_count": 1,
   "metadata": {},
   "outputs": [],
   "source": [
    "import sys\n",
    "sys.path.append('../')"
   ]
  },
  {
   "cell_type": "code",
   "execution_count": 2,
   "metadata": {},
   "outputs": [],
   "source": [
    "from nn.sdnn import DNN # relu on hidden, sigmoid on output layers in the time of the test\n",
    "from nn.iris import IrisDF"
   ]
  },
  {
   "cell_type": "code",
   "execution_count": 3,
   "metadata": {},
   "outputs": [
    {
     "data": {
      "text/plain": [
       "(array([0.67054118, 0.34211284, 0.61580312, 0.23263673]), array([1, 0, 0]))"
      ]
     },
     "execution_count": 3,
     "metadata": {},
     "output_type": "execute_result"
    }
   ],
   "source": [
    "df = IrisDF()\n",
    "df.X_train[0], df.y_train[0]"
   ]
  },
  {
   "cell_type": "code",
   "execution_count": 4,
   "metadata": {},
   "outputs": [],
   "source": [
    "N = DNN(shape=[4, 10, 6, 3])"
   ]
  },
  {
   "cell_type": "code",
   "execution_count": 5,
   "metadata": {},
   "outputs": [
    {
     "name": "stdout",
     "output_type": "stream",
     "text": [
      "Warning: Desired error not necessarily achieved due to precision loss.\n",
      "         Current function value: 2.590754\n",
      "         Iterations: 25\n",
      "         Function evaluations: 82\n",
      "         Gradient evaluations: 70\n"
     ]
    }
   ],
   "source": [
    "N.train(df.X_train, df.y_train)"
   ]
  },
  {
   "cell_type": "code",
   "execution_count": 6,
   "metadata": {},
   "outputs": [
    {
     "data": {
      "image/png": "[encoded data removed]",
      "text/plain": [
       "<Figure size 432x288 with 1 Axes>"
      ]
     },
     "metadata": {},
     "output_type": "display_data"
    }
   ],
   "source": [
    "N.plot_cost()"
   ]
  },
  {
   "cell_type": "code",
   "execution_count": 7,
   "metadata": {},
   "outputs": [
    {
     "data": {
      "text/plain": [
       "0.9714285714285714"
      ]
     },
     "execution_count": 7,
     "metadata": {},
     "output_type": "execute_result"
    }
   ],
   "source": [
    "N.compute_accuracy(df.X_train, df.y_train)"
   ]
  },
  {
   "cell_type": "code",
   "execution_count": 8,
   "metadata": {},
   "outputs": [
    {
     "data": {
      "text/plain": [
       "0.9777777777777777"
      ]
     },
     "execution_count": 8,
     "metadata": {},
     "output_type": "execute_result"
    }
   ],
   "source": [
    "N.compute_accuracy(df.X_test, df.y_test)"
   ]
  },
  {
   "cell_type": "code",
   "execution_count": 10,
   "metadata": {},
   "outputs": [
    {
     "name": "stdout",
     "output_type": "stream",
     "text": [
      "Warning: Desired error not necessarily achieved due to precision loss.\n",
      "         Current function value: 12.192912\n",
      "         Iterations: 11\n",
      "         Function evaluations: 61\n",
      "         Gradient evaluations: 49\n"
     ]
    }
   ],
   "source": [
    "N2 = DNN(shape=[4, 10, 3])\n",
    "N2.train(df.X_train, df.y_train)"
   ]
  },
  {
   "cell_type": "code",
   "execution_count": 11,
   "metadata": {},
   "outputs": [
    {
     "data": {
      "image/png": "[encoded data removed]",
      "text/plain": [
       "<Figure size 432x288 with 1 Axes>"
      ]
     },
     "metadata": {},
     "output_type": "display_data"
    }
   ],
   "source": [
    "N2.plot_cost()"
   ]
  },
  {
   "cell_type": "code",
   "execution_count": 12,
   "metadata": {},
   "outputs": [
    {
     "data": {
      "text/plain": [
       "0.9555555555555556"
      ]
     },
     "execution_count": 12,
     "metadata": {},
     "output_type": "execute_result"
    }
   ],
   "source": [
    "N2.compute_accuracy(df.X_test, df.y_test)"
   ]
  },
  {
   "cell_type": "code",
   "execution_count": 13,
   "metadata": {},
   "outputs": [
    {
     "name": "stdout",
     "output_type": "stream",
     "text": [
      "[1.33677134e-01 3.97069721e-01 5.79115686e-05]   <-------->   [0 1 0], ?guessed True\n",
      "[6.60344407e-07 1.58310757e-01 9.99800216e-01]   <-------->   [0 0 1], ?guessed True\n",
      "[1.26111421e-01 3.81458900e-01 6.21689718e-05]   <-------->   [0 1 0], ?guessed True\n",
      "[8.28879221e-02 3.75868219e-01 1.19100305e-04]   <-------->   [0 1 0], ?guessed True\n",
      "[8.36325476e-01 4.51436016e-01 4.17480127e-07]   <-------->   [1 0 0], ?guessed True\n",
      "[8.43081501e-01 4.86343417e-01 4.04065296e-07]   <-------->   [1 0 0], ?guessed True\n",
      "[1.68405781e-01 4.00903562e-01 3.97741834e-05]   <-------->   [0 1 0], ?guessed True\n",
      "[9.57049207e-07 1.68797148e-01 9.99653176e-01]   <-------->   [0 0 1], ?guessed True\n",
      "[1.22957518e-06 1.76736450e-01 9.99524489e-01]   <-------->   [0 0 1], ?guessed True\n",
      "[6.36379259e-02 3.74131259e-01 1.83462131e-04]   <-------->   [0 1 0], ?guessed True\n",
      "[3.29262097e-01 4.21265073e-01 1.14182338e-05]   <-------->   [0 1 0], ?guessed True\n",
      "[4.19323449e-01 4.23253613e-01 6.38318477e-06]   <-------->   [0 1 0], ?guessed True\n",
      "[3.83551052e-01 4.26066473e-01 8.71863344e-06]   <-------->   [0 1 0], ?guessed True\n",
      "[7.13071782e-01 4.56161963e-01 1.12918025e-06]   <-------->   [1 0 0], ?guessed True\n",
      "[6.24047971e-01 4.55621804e-01 2.06746212e-06]   <-------->   [1 0 0], ?guessed True\n",
      "[1.22038984e-01 3.60511251e-01 6.29060240e-05]   <-------->   [0 1 0], ?guessed True\n",
      "[9.06362627e-02 3.76262052e-01 1.01723661e-04]   <-------->   [0 1 0], ?guessed True\n",
      "[8.50921125e-01 4.49533428e-01 2.98334601e-07]   <-------->   [1 0 0], ?guessed True\n",
      "[5.25934237e-06 2.15004726e-01 9.96335783e-01]   <-------->   [0 0 1], ?guessed True\n",
      "[1.11378851e-06 1.72604354e-01 9.99573656e-01]   <-------->   [0 0 1], ?guessed True\n",
      "[8.37204200e-01 4.61775220e-01 3.98845439e-07]   <-------->   [1 0 0], ?guessed True\n",
      "[8.41851171e-01 4.75900907e-01 3.94301943e-07]   <-------->   [1 0 0], ?guessed True\n",
      "[6.38152442e-01 4.47594905e-01 1.82961916e-06]   <-------->   [1 0 0], ?guessed True\n",
      "[8.47179841e-01 4.62743754e-01 3.39190977e-07]   <-------->   [1 0 0], ?guessed True\n",
      "[4.49193826e-01 4.44008525e-01 6.12842750e-06]   <-------->   [0 1 0], ?guessed False\n",
      "[8.39806335e-01 4.62955605e-01 3.94865890e-07]   <-------->   [1 0 0], ?guessed True\n",
      "[8.56132054e-01 3.96378525e-01 2.16207402e-07]   <-------->   [1 0 0], ?guessed True\n",
      "[1.16995090e-06 1.74583401e-01 9.99549591e-01]   <-------->   [0 0 1], ?guessed True\n",
      "[1.25037311e-06 1.74627452e-01 9.99499201e-01]   <-------->   [0 0 1], ?guessed True\n",
      "[8.50139073e-01 4.77490303e-01 3.48439059e-07]   <-------->   [1 0 0], ?guessed True\n",
      "[8.44387242e-01 4.30976893e-01 3.26795864e-07]   <-------->   [1 0 0], ?guessed True\n",
      "[2.79184749e-01 4.08953695e-01 1.53802236e-05]   <-------->   [0 1 0], ?guessed True\n",
      "[6.51221188e-01 4.57081366e-01 1.79456018e-06]   <-------->   [1 0 0], ?guessed True\n",
      "[3.03686862e-01 3.89552510e-01 1.23150179e-05]   <-------->   [0 1 0], ?guessed True\n",
      "[2.53157644e-01 4.00499321e-01 1.79830205e-05]   <-------->   [0 1 0], ?guessed True\n",
      "[8.01355318e-02 3.66791401e-01 1.25415445e-04]   <-------->   [0 1 0], ?guessed True\n",
      "[1.93141389e-06 1.82141375e-01 9.99016381e-01]   <-------->   [0 0 1], ?guessed True\n",
      "[4.19547869e-07 1.41780734e-01 9.99885942e-01]   <-------->   [0 0 1], ?guessed True\n",
      "[4.39731157e-01 4.26771152e-01 6.31128746e-06]   <-------->   [0 1 0], ?guessed False\n",
      "[8.37474813e-01 4.43558277e-01 3.99423140e-07]   <-------->   [1 0 0], ?guessed True\n",
      "[8.16010119e-07 1.62772103e-01 9.99719212e-01]   <-------->   [0 0 1], ?guessed True\n",
      "[6.55476942e-01 4.52433670e-01 1.56458453e-06]   <-------->   [1 0 0], ?guessed True\n",
      "[1.76879664e-01 4.07862241e-01 3.63339941e-05]   <-------->   [0 1 0], ?guessed True\n",
      "[3.58729267e-01 4.20773418e-01 9.77695552e-06]   <-------->   [0 1 0], ?guessed True\n",
      "[1.45112911e-06 1.84591096e-01 9.99415684e-01]   <-------->   [0 0 1], ?guessed True\n"
     ]
    }
   ],
   "source": [
    "for yh, y in zip(N2.y_hat, df.y_test):\n",
    "    print('{}   <-------->   {}, ?guessed {}'.format(yh, y, yh.argmax()==y.argmax()))"
   ]
  },
  {
   "cell_type": "code",
   "execution_count": 15,
   "metadata": {},
   "outputs": [
    {
     "name": "stdout",
     "output_type": "stream",
     "text": [
      "Warning: Desired error not necessarily achieved due to precision loss.\n",
      "         Current function value: 10.293974\n",
      "         Iterations: 13\n",
      "         Function evaluations: 131\n",
      "         Gradient evaluations: 119\n"
     ]
    }
   ],
   "source": [
    "N3 = DNN(shape=[4, 20, 10, 6, 3])\n",
    "N3.train(df.X_train, df.y_train)"
   ]
  },
  {
   "cell_type": "code",
   "execution_count": 16,
   "metadata": {},
   "outputs": [
    {
     "data": {
      "image/png": "[encoded data removed]",
      "text/plain": [
       "<Figure size 432x288 with 1 Axes>"
      ]
     },
     "metadata": {},
     "output_type": "display_data"
    }
   ],
   "source": [
    "N3.plot_cost()"
   ]
  },
  {
   "cell_type": "code",
   "execution_count": 17,
   "metadata": {},
   "outputs": [
    {
     "data": {
      "text/plain": [
       "0.8"
      ]
     },
     "execution_count": 17,
     "metadata": {},
     "output_type": "execute_result"
    }
   ],
   "source": [
    "N3.compute_accuracy(df.X_test, df.y_test)"
   ]
  }
 ],
 "metadata": {
  "kernelspec": {
   "display_name": "Python 3",
   "language": "python",
   "name": "python3"
  },
  "language_info": {
   "codemirror_mode": {
    "name": "ipython",
    "version": 3
   },
   "file_extension": ".py",
   "mimetype": "text/x-python",
   "name": "python",
   "nbconvert_exporter": "python",
   "pygments_lexer": "ipython3",
   "version": "3.6.6"
  }
 },
 "nbformat": 4,
 "nbformat_minor": 2
}
