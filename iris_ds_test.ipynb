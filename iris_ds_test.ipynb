{
 "cells": [
  {
   "cell_type": "code",
   "execution_count": 1,
   "metadata": {},
   "outputs": [],
   "source": [
    "import sdnn"
   ]
  },
  {
   "cell_type": "code",
   "execution_count": 11,
   "metadata": {},
   "outputs": [
    {
     "data": {
      "text/plain": [
       "<module 'sdnn' from 'E:\\\\repos\\\\py-sDNN\\\\sdnn.py'>"
      ]
     },
     "execution_count": 11,
     "metadata": {},
     "output_type": "execute_result"
    }
   ],
   "source": [
    "import importlib\n",
    "importlib.reload(sdnn)"
   ]
  },
  {
   "cell_type": "code",
   "execution_count": 3,
   "metadata": {},
   "outputs": [],
   "source": [
    "import numpy as np\n",
    "from sklearn import datasets\n",
    "from sklearn.model_selection import train_test_split\n",
    "from sklearn import preprocessing\n",
    "import matplotlib.pyplot as plt\n",
    "from matplotlib import style"
   ]
  },
  {
   "cell_type": "code",
   "execution_count": 4,
   "metadata": {},
   "outputs": [],
   "source": [
    "style.use('fivethirtyeight')"
   ]
  },
  {
   "cell_type": "code",
   "execution_count": 5,
   "metadata": {},
   "outputs": [],
   "source": [
    "def encode(data):\n",
    "    y = []\n",
    "    for i in data:\n",
    "        if i == 0:\n",
    "            y.append([0, 0, 1])\n",
    "        elif i == 1:\n",
    "            y.append([0, 1, 0])\n",
    "        else:\n",
    "            y.append([1, 0, 0])\n",
    "    return np.array(y)"
   ]
  },
  {
   "cell_type": "code",
   "execution_count": 6,
   "metadata": {},
   "outputs": [],
   "source": [
    "iris = datasets.load_iris()\n",
    "X = preprocessing.normalize(iris.data)\n",
    "y = encode(iris.target)"
   ]
  },
  {
   "cell_type": "code",
   "execution_count": 7,
   "metadata": {},
   "outputs": [
    {
     "data": {
      "text/plain": [
       "(array([0.80377277, 0.55160877, 0.22064351, 0.0315205 ]), array([0, 0, 1]))"
      ]
     },
     "execution_count": 7,
     "metadata": {},
     "output_type": "execute_result"
    }
   ],
   "source": [
    "X[0], y[0]"
   ]
  },
  {
   "cell_type": "code",
   "execution_count": 8,
   "metadata": {},
   "outputs": [],
   "source": [
    "X_train, X_test, y_train, y_test = train_test_split(X, y, test_size=0.34)"
   ]
  },
  {
   "cell_type": "code",
   "execution_count": 12,
   "metadata": {},
   "outputs": [],
   "source": [
    "nn = sdnn.DNN([4, 10, 6, 3], debug=False)"
   ]
  },
  {
   "cell_type": "code",
   "execution_count": 13,
   "metadata": {},
   "outputs": [
    {
     "name": "stdout",
     "output_type": "stream",
     "text": [
      "Optimization terminated successfully.\n",
      "         Current function value: 33.976566\n",
      "         Iterations: 2\n",
      "         Function evaluations: 3\n",
      "         Gradient evaluations: 3\n"
     ]
    }
   ],
   "source": [
    "nn.train(X_train, y_train)"
   ]
  },
  {
   "cell_type": "code",
   "execution_count": 14,
   "metadata": {},
   "outputs": [
    {
     "data": {
      "text/plain": [
       "0.3269230769230769"
      ]
     },
     "execution_count": 14,
     "metadata": {},
     "output_type": "execute_result"
    }
   ],
   "source": [
    "nn.compute_accuracy(X_test, y_test)"
   ]
  },
  {
   "cell_type": "code",
   "execution_count": 15,
   "metadata": {},
   "outputs": [
    {
     "data": {
      "image/png": "[encoded data removed]",
      "text/plain": [
       "<Figure size 432x288 with 1 Axes>"
      ]
     },
     "metadata": {},
     "output_type": "display_data"
    }
   ],
   "source": [
    "plt.plot(nn.J)\n",
    "plt.title('Optimization Results')\n",
    "plt.xlabel('Iterations')\n",
    "plt.ylabel('Cost')\n",
    "plt.show()"
   ]
  },
  {
   "cell_type": "code",
   "execution_count": 16,
   "metadata": {},
   "outputs": [
    {
     "name": "stdout",
     "output_type": "stream",
     "text": [
      "[0.35204817 0.50167324 0.14627859] --- [0 1 0]\n",
      "[0.34600855 0.51061281 0.14337864] --- [0 1 0]\n",
      "[0.34586075 0.46791979 0.18621946] --- [0 0 1]\n",
      "[0.34188487 0.52477464 0.13334049] --- [1 0 0]\n",
      "[0.34147214 0.51524165 0.14328622] --- [1 0 0]\n",
      "[0.34788695 0.46746942 0.18464363] --- [0 0 1]\n",
      "[0.34592957 0.50957531 0.14449512] --- [0 1 0]\n",
      "[0.35186307 0.45339254 0.19474439] --- [0 0 1]\n",
      "[0.34565142 0.516043   0.13830558] --- [0 1 0]\n",
      "[0.35810862 0.45049388 0.1913975 ] --- [0 0 1]\n",
      "[0.35099545 0.464338   0.18466655] --- [0 0 1]\n",
      "[0.35157303 0.51049202 0.13793496] --- [1 0 0]\n",
      "[0.34586075 0.46791979 0.18621946] --- [0 0 1]\n",
      "[0.34912832 0.46431098 0.1865607 ] --- [0 0 1]\n",
      "[0.35177445 0.49693725 0.1512883 ] --- [0 1 0]\n",
      "[0.35379098 0.46010777 0.18610125] --- [0 0 1]\n",
      "[0.34160557 0.47644837 0.18194606] --- [0 0 1]\n",
      "[0.34791483 0.46700624 0.18507892] --- [0 0 1]\n",
      "[0.34918707 0.51264792 0.13816501] --- [1 0 0]\n",
      "[0.34785145 0.51859968 0.13354886] --- [1 0 0]\n",
      "[0.35058714 0.50340641 0.14600645] --- [0 1 0]\n",
      "[0.33773824 0.52747313 0.13478863] --- [1 0 0]\n",
      "[0.34892184 0.46523951 0.18583864] --- [0 0 1]\n",
      "[0.34807356 0.46855232 0.18337412] --- [0 0 1]\n",
      "[0.34495461 0.52467236 0.13037303] --- [1 0 0]\n",
      "[0.35156174 0.46271831 0.18571994] --- [0 0 1]\n",
      "[0.3504394  0.49898756 0.15057304] --- [0 1 0]\n",
      "[0.34208202 0.52499521 0.13292277] --- [1 0 0]\n",
      "[0.34732894 0.51509881 0.13757226] --- [1 0 0]\n",
      "[0.34931107 0.50743154 0.14325738] --- [0 1 0]\n",
      "[0.35226907 0.45429201 0.19343892] --- [0 0 1]\n",
      "[0.35045439 0.49882372 0.15072188] --- [0 1 0]\n",
      "[0.35242356 0.49572286 0.15185358] --- [0 1 0]\n",
      "[0.34091693 0.52585512 0.13322794] --- [1 0 0]\n",
      "[0.3550041  0.45925978 0.18573612] --- [0 0 1]\n",
      "[0.34646073 0.47263594 0.18090333] --- [0 0 1]\n",
      "[0.35081893 0.50770042 0.14148065] --- [0 1 0]\n",
      "[0.34091693 0.52585512 0.13322794] --- [1 0 0]\n",
      "[0.34800855 0.47322803 0.17876342] --- [0 0 1]\n",
      "[0.34879575 0.46649861 0.18470564] --- [0 0 1]\n",
      "[0.35194619 0.49970816 0.14834565] --- [0 1 0]\n",
      "[0.35103851 0.4998426  0.1491189 ] --- [0 1 0]\n",
      "[0.34872205 0.50683564 0.14444231] --- [0 1 0]\n",
      "[0.34013817 0.52211056 0.13775127] --- [0 1 0]\n",
      "[0.35548169 0.46958389 0.17493441] --- [0 0 1]\n",
      "[0.35350685 0.50175574 0.14473741] --- [0 1 0]\n",
      "[0.34660398 0.46787974 0.18551628] --- [0 0 1]\n",
      "[0.34484797 0.51061902 0.14453301] --- [0 1 0]\n",
      "[0.34158358 0.52436671 0.13404971] --- [1 0 0]\n",
      "[0.34586075 0.46791979 0.18621946] --- [0 0 1]\n",
      "[0.35483428 0.50475413 0.14041159] --- [1 0 0]\n",
      "[0.3490734  0.47328551 0.17764109] --- [0 0 1]\n"
     ]
    }
   ],
   "source": [
    "for i, j in zip(nn.y_hat, y_test):\n",
    "    print(i, '---', j)"
   ]
  },
  {
   "cell_type": "code",
   "execution_count": 17,
   "metadata": {},
   "outputs": [
    {
     "data": {
      "text/plain": [
       "0.336734693877551"
      ]
     },
     "execution_count": 17,
     "metadata": {},
     "output_type": "execute_result"
    }
   ],
   "source": [
    "nn.compute_accuracy(X_train, y_train)"
   ]
  },
  {
   "cell_type": "code",
   "execution_count": 18,
   "metadata": {},
   "outputs": [
    {
     "name": "stdout",
     "output_type": "stream",
     "text": [
      "Warning: Desired error not necessarily achieved due to precision loss.\n",
      "         Current function value: 32.222687\n",
      "         Iterations: 1\n",
      "         Function evaluations: 105\n",
      "         Gradient evaluations: 93\n"
     ]
    }
   ],
   "source": [
    "nn2 = sdnn.DNN([4, 20, 32, 5, 3])\n",
    "nn2.train(X_train, y_train)"
   ]
  },
  {
   "cell_type": "code",
   "execution_count": 19,
   "metadata": {},
   "outputs": [
    {
     "data": {
      "text/plain": [
       "0.25"
      ]
     },
     "execution_count": 19,
     "metadata": {},
     "output_type": "execute_result"
    }
   ],
   "source": [
    "nn2.compute_accuracy(X_test, y_test)"
   ]
  },
  {
   "cell_type": "code",
   "execution_count": 20,
   "metadata": {},
   "outputs": [
    {
     "data": {
      "text/plain": [
       "[<matplotlib.lines.Line2D at 0x18f5e6105c0>]"
      ]
     },
     "execution_count": 20,
     "metadata": {},
     "output_type": "execute_result"
    },
    {
     "data": {
      "image/png": "[encoded data removed]",
      "text/plain": [
       "<Figure size 432x288 with 1 Axes>"
      ]
     },
     "metadata": {},
     "output_type": "display_data"
    }
   ],
   "source": [
    "plt.plot(nn2.J)"
   ]
  },
  {
   "cell_type": "code",
   "execution_count": 21,
   "metadata": {},
   "outputs": [
    {
     "name": "stdout",
     "output_type": "stream",
     "text": [
      "Optimization terminated successfully.\n",
      "         Current function value: 33.526542\n",
      "         Iterations: 1\n",
      "         Function evaluations: 3\n",
      "         Gradient evaluations: 3\n"
     ]
    }
   ],
   "source": [
    "nn3 = sdnn.DNN([4, 20, 30, 15, 3])\n",
    "for b in nn3.bs:\n",
    "    b.fill(0.01)\n",
    "nn3.train(X_train, y_train)"
   ]
  },
  {
   "cell_type": "code",
   "execution_count": 22,
   "metadata": {},
   "outputs": [
    {
     "data": {
      "text/plain": [
       "0.25"
      ]
     },
     "execution_count": 22,
     "metadata": {},
     "output_type": "execute_result"
    }
   ],
   "source": [
    "nn3.compute_accuracy(X_test, y_test)"
   ]
  },
  {
   "cell_type": "code",
   "execution_count": null,
   "metadata": {},
   "outputs": [],
   "source": []
  }
 ],
 "metadata": {
  "kernelspec": {
   "display_name": "Python 3",
   "language": "python",
   "name": "python3"
  },
  "language_info": {
   "codemirror_mode": {
    "name": "ipython",
    "version": 3
   },
   "file_extension": ".py",
   "mimetype": "text/x-python",
   "name": "python",
   "nbconvert_exporter": "python",
   "pygments_lexer": "ipython3",
   "version": "3.6.6"
  }
 },
 "nbformat": 4,
 "nbformat_minor": 2
}
